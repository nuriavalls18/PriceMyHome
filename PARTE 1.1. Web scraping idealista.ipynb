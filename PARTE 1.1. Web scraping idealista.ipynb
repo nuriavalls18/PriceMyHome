{
 "cells": [
  {
   "attachments": {
    "logo%20price%20my%20home%20con%20margen.jpg": {
     "image/jpeg": "[encoded data removed]"
    }
   },
   "cell_type": "markdown",
   "metadata": {},
   "source": [
    "![logo%20price%20my%20home%20con%20margen.jpg](attachment:logo%20price%20my%20home%20con%20margen.jpg)"
   ]
  },
  {
   "cell_type": "markdown",
   "metadata": {},
   "source": [
    "> ### <font color= \"1F284B\" >**IDEALISTA**</font><font color= \"3B4D90\" >_Web Scraper.</font>"
   ]
  },
  {
   "cell_type": "markdown",
   "metadata": {},
   "source": [
    "________________"
   ]
  },
  {
   "cell_type": "markdown",
   "metadata": {},
   "source": [
    "##### <font color= \"1F284B\" >PASO 0. IMPORTAR LIBRERÍAS</font>"
   ]
  },
  {
   "cell_type": "code",
   "execution_count": null,
   "metadata": {},
   "outputs": [],
   "source": [
    "import requests\n",
    "from time import sleep, strftime\n",
    "import random\n",
    "from random import randint\n",
    "from bs4 import BeautifulSoup\n",
    "from selenium import webdriver\n",
    "import shutil\n",
    "import pickle \n",
    "import os\n",
    "from unidecode import unidecode\n",
    "import pandas as pd\n",
    "from selenium.webdriver.common.proxy import Proxy, ProxyType"
   ]
  },
  {
   "cell_type": "markdown",
   "metadata": {},
   "source": [
    "________________"
   ]
  },
  {
   "cell_type": "markdown",
   "metadata": {},
   "source": [
    "##### <font color= \"1F284B\" >PASO 1. HACER WEB SCRAPING DE hidemy.name para sacar servidores proxy</font>"
   ]
  },
  {
   "cell_type": "code",
   "execution_count": 2,
   "metadata": {},
   "outputs": [],
   "source": [
    "chrome_driver = \"C:/Users/nuria/Bootcamp Data Science/02. Febrero/chromedriver\"\n",
    "url_proxy = \"https://hidemy.name/es/proxy-list/?maxtime=500&type=s&anon=4#list\"\n",
    "driver_proxy = webdriver.Chrome(executable_path = chrome_driver)"
   ]
  },
  {
   "cell_type": "code",
   "execution_count": 3,
   "metadata": {},
   "outputs": [],
   "source": [
    "driver_proxy.get(url_proxy)"
   ]
  },
  {
   "cell_type": "code",
   "execution_count": 4,
   "metadata": {},
   "outputs": [],
   "source": [
    "lista_proxies = driver_proxy.find_elements_by_xpath(\"//tbody/tr/td[1]\")"
   ]
  },
  {
   "cell_type": "code",
   "execution_count": 5,
   "metadata": {},
   "outputs": [],
   "source": [
    "proxies_https = []\n",
    "for i in lista_proxies:\n",
    "    proxies_https.append(i.text)"
   ]
  },
  {
   "cell_type": "code",
   "execution_count": 6,
   "metadata": {},
   "outputs": [],
   "source": [
    "url_proxy_http = \"https://hidemy.name/es/proxy-list/?maxtime=500&type=h&anon=4#list\"\n",
    "driver_proxy.get(url_proxy_http)"
   ]
  },
  {
   "cell_type": "code",
   "execution_count": 7,
   "metadata": {},
   "outputs": [],
   "source": [
    "lista_proxies = driver_proxy.find_elements_by_xpath(\"//tbody/tr/td[1]\")"
   ]
  },
  {
   "cell_type": "code",
   "execution_count": 8,
   "metadata": {},
   "outputs": [],
   "source": [
    "proxies_http = []\n",
    "for i in lista_proxies:\n",
    "    proxies_http.append(i.text)"
   ]
  },
  {
   "cell_type": "code",
   "execution_count": 37,
   "metadata": {},
   "outputs": [],
   "source": [
    "# Configure Proxy Option\n",
    "prox = Proxy()\n",
    "prox.proxy_type = ProxyType.MANUAL\n",
    "\n",
    "# Proxy IP & Port\n",
    "prox.https_proxy = proxies_https[1]\n",
    "prox.http_proxy = proxies_http[1]\n",
    "\n",
    "# Configure capabilities \n",
    "capabilities = webdriver.DesiredCapabilities.CHROME\n",
    "prox.add_to_capabilities(capabilities)\n",
    "chrome_driver = \"C:/Users/nuria/Bootcamp Data Science/02. Febrero/chromedriver\"\n",
    "options = webdriver.ChromeOptions()\n",
    "options.add_argument('--incognito')\n",
    "driver = webdriver.Chrome(executable_path=chrome_driver, desired_capabilities=capabilities ,options = options)"
   ]
  },
  {
   "cell_type": "markdown",
   "metadata": {},
   "source": [
    "________________"
   ]
  },
  {
   "cell_type": "markdown",
   "metadata": {},
   "source": [
    "##### <font color= \"1F284B\" >PASO 1. ENTRAR EN LA PÁGINA</font>"
   ]
  },
  {
   "cell_type": "code",
   "execution_count": 10,
   "metadata": {},
   "outputs": [],
   "source": [
    "url = \"https://www.idealista.com/venta-viviendas/madrid-madrid/mapa\"\n",
    "driver.get(url) "
   ]
  },
  {
   "cell_type": "markdown",
   "metadata": {},
   "source": [
    "##### <font color= \"1F284B\" >PASO 2. INTRODUCIR UN BARRIO</font>"
   ]
  },
  {
   "cell_type": "code",
   "execution_count": 11,
   "metadata": {},
   "outputs": [],
   "source": [
    "Centro =[\"Palacio, Centro\", \"lavapiés-Embajadores, Centro\", \"Huertas-Cortes, Centro\", \"Chueca-Justicia, Centro\", \"Malasaña-Universidad, Centro\",\n",
    "\"Sol, Centro\"]\n",
    "Arganzuela = [\"Imperial, Arganzuela\", \"Las Acacias, Arganzuela\", \"La Chopera, Arganzuela\", \"Legazpi, Arganzuela\", \"Delicias, Arganzuela\",\n",
    "\"Palos de Moguer, Arganzuela\", \"Atocha, Arganzuela\"]\n",
    "Retiro = [\"Pacífico, Retiro\", \"Adelfas, Retiro\", \"Estrella, Retiro\", \"Ibiza, Retiro\", \"Jerónimos, Retiro\", \"Niño Jesús, Retiro\"]\n",
    "Salamanca = [\"Recoletos,Salamanca\", \"Goya, Salamanca\", \"Fuente del Berro, Salamanca\", \"Guindalera, Salamanca\", \"Lista, Salamanca\",\n",
    "\"Castellana, Salamanca\"]\n",
    "Chamartin = [\"El Viso, Chamartin\", \"Prosperidad, Chamartin\", \"Ciudad Jardín, Chamartin\", \"Hispanoamérica, Chamartin\",\n",
    "\"Nueva España, Chamartin\", \"Castilla, Chamartin\"]\n",
    "Tetuan = [\"Bellas Vistas, Tetuan\", \"Cuatro Caminos, Tetuan\", \"Castillejos, Tetuan\", \"Almenara, Tetuan\",\n",
    "\"Valdeacederas, Tetuan\", \"Berruguete, Tetuan\"]\n",
    "Chamberi = [\"Gaztambide,Chamberi\", \"Arapiles, Chamberi\", \"Trafalgar, Chamberi\", \"Almagro, Chamberi\", \"Ríos Rosas, Chamberi\",\n",
    "\"Vallehermoso, Chamberi\"]\n",
    "Fuencarral= [\"El Pardo, Fuencarral\", \"Fuentelarreina, Fuencarral\", \"Peña Grande, Fuencarral\", \"El Pilar, Fuencarral\",\n",
    "\"La Paz, Fuencarral\", \"Valverde, Fuencarral\", \"Mirasierra, Fuencarral\", \"El Goloso, Fuencarral\"]\n",
    "Moncloa = [\"Casa de Campo, Moncloa\", \"Argüelles, Moncloa\", \"Ciudad Universitaria, Moncloa\", \"Valdezarza, Moncloa\",\n",
    "\"Valdemarín, Moncloa\", \"El Plantío, Moncloa\", \"Aravaca, Moncloa\"]\n",
    "Latina = [\"Los Cármenes, Latina\", \"Puerta del Angel, Latina\", \"Lucero, Latina\", \"Aluche, Latina\", \"Campamento, Latina\",\n",
    "\"Cuatro Vientos, Latina\", \"Las Aguilas, Latina\"]\n",
    "Carabanchel = [\"Comillas, Carabanchel\", \"Opañel, Carabanchel\", \"San Isidro, Carabanchel\", \"Vista Alegre, Carabanchel\",\n",
    "\"Puerta Bonita, Carabanchel\", \"Buenavista, Carabanchel\", \"Abrantes, Carabanchel\"]\n",
    "Usera = [\"Orcasitas, Usera\", \"Orcasur, Usera\", \"San Fermín, Usera\", \"Almendrales, Usera\", \"Moscardó, Usera\", \"Zofío, Usera\",\n",
    "\"Pradolongo, Usera\"]\n",
    "Puente_Vallecas =[\"Entrevías, Puente de Vallecas\", \"San Diego, Puente de Vallecas\", \"Palomeras Bajas, Puente de Vallecas\",\n",
    "\"Palomeras Sureste, Puente de Vallecas\", \"Portazgo, Puente de Vallecas\", \"Numancia, Puente de Vallecas\"]\n",
    "Moratalaz = [\"Pavones, Moratalaz\", \"Horcajo, Moratalaz\", \"Marroquina, Moratalaz\", \"Media Legua, Moratalaz\", \"Fontarrón, Moratalaz\",\n",
    "\"Vinateros, Moratalaz\"]\n",
    "Ciudad_Lineal = [\"Ventas, Ciudad Lineal\", \"Pueblo Nuevo,Ciudad Lineal\", \"Quintana, Ciudad Lineal\", \"Concepción, Ciudad Lineal\",\n",
    "\"San Pascual, Ciudad Lineal\", \"San Juan Bautista, Ciudad Lineal\", \"Colina, Ciudad Lineal\", \"Atalaya, Ciudad Lineal\",\n",
    "\"Costillares, Ciudad Lineal\"]\n",
    "Hortaleza = [\"Palomas, Hortaleza\", \"Piovera, Hortaleza\", \"Canillas, Hortaleza\", \"Pinar del Rey, Hortaleza\", \"Apostol Santiago, Hortaleza\",\n",
    "\"Valdefuentes, Hortaleza\"]\n",
    "Villaverde = [\"San Andrés, Villaverde\", \"San Cristobal, Villaverde\", \"Butarque, Villaverde\", \"Los Rosales, Villaverde\",\n",
    "\"Los Angeles, Villaverde\"]\n",
    "Villa_Vallecas = [\"Casco Histórico de Vallecas, Villa de Vallecas\", \"Santa Eugenia, Villa de Vallecas\",\n",
    "\"Ensanche de Vallecas, Villa de Vallecas\"]\n",
    "Vicalvaro = [\"Casco Histórico de Vicálvaro, Vicálvaro\", \"Valdebernardo, Vicálvaro\", \"Valderrivas, Vicálvaro\",\n",
    "\"El Cañaveral, Vicálvaro\"]\n",
    "San_blas = [\"Simancas, San Blas\", \"Hellín, San Blas\", \"Amposta, San Blas\", \"Arcos, San Blas\", \"Rosas, San Blas\",\n",
    "\"Rejas, San Blas\", \"Canillejas, San Blas\", \"El Salvador, San Blas\"]\n",
    "Barajas = [\"Alameda de Osuna, Barajas\", \"Aeropuerto, Barajas\", \"Casco Histórico de Barajas, Barajas\", \"Timón, Barajas\",\n",
    "\"Corralejos, Barajas\"]"
   ]
  },
  {
   "cell_type": "code",
   "execution_count": 12,
   "metadata": {},
   "outputs": [],
   "source": [
    "distritos = [\"centro\", \"arganzuela\", \"retiro\", \"salamanca\", \"chamartin\", \"tetuan\", \"chamberi\", \"fuencarral\", \"moncloa\", \"latina\",\n",
    "          \"carabanchel\",\"usera\", \"puente de vallecas\", \"ciudad Lineal\", \"hortaleza\", \"villaverde\",\n",
    "          \"villa de vallecas\", \"vicalvaro\", \"san blas\", \"barajas\"]"
   ]
  },
  {
   "cell_type": "code",
   "execution_count": 39,
   "metadata": {},
   "outputs": [],
   "source": [
    "def pisos(nombre_barrio, nombre_distrito): \n",
    "    driver.get(url) \n",
    "    barrio = unidecode(nombre_barrio)\n",
    "    distrito = unidecode(nombre_distrito)\n",
    "    sleep(2)\n",
    "    # Introducir nombre del barrio para empezar la búsqueda:\n",
    "    soup = BeautifulSoup(driver.page_source)\n",
    "    buscar = soup.find(\"div\", class_ = \"searchBox-container\")\n",
    "    buscar = driver.find_element_by_class_name(\"searchBox\")\n",
    "    buscar.send_keys(barrio)\n",
    "    sleep(2)\n",
    "    link_barrio = driver.find_element_by_xpath(\"//a[@href = '/venta-viviendas/madrid/\" + distrito.lower() + \"/\" + barrio.lower().split(\",\")[0] + \"/mapa']\")\n",
    "    link_barrio.click()\n",
    "    # Refrescamos sopa:\n",
    "    sleep(2)\n",
    "    soup = BeautifulSoup(driver.page_source)\n",
    "    # Pinchamos filtros\n",
    "    pisos = driver.find_element_by_id(\"homes\")\n",
    "    # Entramos en cada página:\n",
    "    rango_paginas= []\n",
    "    for i in range(1,2):\n",
    "        rango_paginas.append(str(i))\n",
    "    numero_paginas = []\n",
    "    for numero in rango_paginas:\n",
    "        numero_paginas.append(\"https://www.idealista.com/venta-viviendas/madrid/\" + distrito.lower() + \"/\" + barrio.lower().split(\",\")[0] + \"/pagina-\" + numero + \".htm\")\n",
    "    for url_pagina in numero_paginas:\n",
    "        try:\n",
    "            sleep(2)\n",
    "            # Entrar a cada piso.\n",
    "            driver.get(url_pagina)\n",
    "            soup = BeautifulSoup(driver.page_source)\n",
    "            cada_titulo = driver.find_elements_by_xpath(\"//a[@class='item-link']\")\n",
    "            # Sacar valores y caracteristicas de cada piso.\n",
    "            for i in cada_titulo:\n",
    "                sleep(2)\n",
    "                i.click()\n",
    "                sleep(2)\n",
    "                soup = BeautifulSoup(driver.page_source)\n",
    "                precio = driver.find_element_by_xpath(\"//span[@class='txt-bold']\").text\n",
    "                caracteristicas = driver.find_elements_by_xpath(\"//div[@class='details-property_features']/ul/li\")\n",
    "                lista_caracteristicas = []\n",
    "                for i in caracteristicas:\n",
    "                    lista_caracteristicas.append(i.text)\n",
    "                m2 = driver.find_element_by_xpath(\"//div[@class='info-features']\").text\n",
    "                driver.back()\n",
    "            driver.back()\n",
    "        except:\n",
    "            pass\n",
    "        driver.back()     \n",
    "    driver.back()\n",
    "    driver.back()\n",
    "    return precio, lista_caracteristicas, m2"
   ]
  },
  {
   "cell_type": "markdown",
   "metadata": {},
   "source": [
    "##### <font color= \"1F284B\" >- Distrito Centro</font>"
   ]
  },
  {
   "cell_type": "markdown",
   "metadata": {},
   "source": [
    "palacio_centro = pisos(Centro[0], distritos[0])"
   ]
  },
  {
   "cell_type": "code",
   "execution_count": null,
   "metadata": {},
   "outputs": [],
   "source": [
    "embajadores_centro = pisos(Centro[1], distritos[0])"
   ]
  },
  {
   "cell_type": "code",
   "execution_count": null,
   "metadata": {},
   "outputs": [],
   "source": [
    "cortes_centro = pisos(Centro[2], distritos[0])"
   ]
  },
  {
   "cell_type": "code",
   "execution_count": null,
   "metadata": {},
   "outputs": [],
   "source": [
    "justicia_centro = pisos(Centro[3], distritos[0])"
   ]
  },
  {
   "cell_type": "code",
   "execution_count": null,
   "metadata": {},
   "outputs": [],
   "source": [
    "universidad_centro = pisos(Centro[4], distritos[0])"
   ]
  },
  {
   "cell_type": "code",
   "execution_count": null,
   "metadata": {},
   "outputs": [],
   "source": [
    "sol_centro = pisos(Centro[5], distritos[0])"
   ]
  },
  {
   "cell_type": "code",
   "execution_count": null,
   "metadata": {},
   "outputs": [],
   "source": [
    "df_centro = pd.DataFrame([palacio_centro,embajadores_centro,cortes_centro,\n",
    "                          justicia_centro,universidad_centro,sol_centro],\n",
    "                         columns = [\"precio\",\"caracteristicas\",\"superficie\"])"
   ]
  },
  {
   "cell_type": "code",
   "execution_count": null,
   "metadata": {},
   "outputs": [],
   "source": [
    "df_centro"
   ]
  },
  {
   "cell_type": "code",
   "execution_count": null,
   "metadata": {},
   "outputs": [],
   "source": [
    "df_centro.to_csv(\"df_centro.csv\",index=True)"
   ]
  },
  {
   "cell_type": "code",
   "execution_count": null,
   "metadata": {},
   "outputs": [],
   "source": [
    "df_centro.to_excel(\"df_centro.xlsx\",index=True)"
   ]
  },
  {
   "cell_type": "markdown",
   "metadata": {},
   "source": [
    "##### <font color= \"1F284B\" >- Distrito Arganzuela</font>"
   ]
  },
  {
   "cell_type": "code",
   "execution_count": null,
   "metadata": {},
   "outputs": [],
   "source": [
    "imperial_arganzuela = pisos(Arganzuela[0], distritos[1])"
   ]
  },
  {
   "cell_type": "code",
   "execution_count": null,
   "metadata": {},
   "outputs": [],
   "source": [
    "acacias_arganzuela = pisos(Arganzuela[1], distritos[1])"
   ]
  },
  {
   "cell_type": "code",
   "execution_count": null,
   "metadata": {},
   "outputs": [],
   "source": [
    "chopera_arganzuela = pisos(Arganzuela[2], distritos[1])"
   ]
  },
  {
   "cell_type": "code",
   "execution_count": null,
   "metadata": {},
   "outputs": [],
   "source": [
    "legazpi_arganzuela = pisos(Arganzuela[3], distritos[1])"
   ]
  },
  {
   "cell_type": "code",
   "execution_count": null,
   "metadata": {},
   "outputs": [],
   "source": [
    "delicias_arganzuela = pisos(Arganzuela[4], distritos[1])"
   ]
  },
  {
   "cell_type": "code",
   "execution_count": null,
   "metadata": {},
   "outputs": [],
   "source": [
    "palos_arganzuela = pisos(Arganzuela[5], distritos[1])"
   ]
  },
  {
   "cell_type": "code",
   "execution_count": null,
   "metadata": {},
   "outputs": [],
   "source": [
    "atocha_arganzuela = pisos(Arganzuela[6], distritos[1])"
   ]
  },
  {
   "cell_type": "code",
   "execution_count": null,
   "metadata": {},
   "outputs": [],
   "source": [
    "df_arganzuela = pd.DataFrame([imperial_arganzuela,acacias_arganzuela,chopera_arganzuela,\n",
    "                          legazpi_arganzuela,delicias_arganzuela,palos_arganzuela,atocha_arganzuela],\n",
    "                         columns = [\"precio\",\"caracteristicas\",\"superficie\"])"
   ]
  },
  {
   "cell_type": "code",
   "execution_count": null,
   "metadata": {},
   "outputs": [],
   "source": [
    "df_arganzuela"
   ]
  },
  {
   "cell_type": "code",
   "execution_count": null,
   "metadata": {},
   "outputs": [],
   "source": [
    "df_arganzuela.to_csv(\"df_arganzuela.csv\",index=True)"
   ]
  },
  {
   "cell_type": "code",
   "execution_count": null,
   "metadata": {},
   "outputs": [],
   "source": [
    "df_arganzuela.to_excel(\"df_arganzuela.xlsx\",index=True)"
   ]
  },
  {
   "cell_type": "markdown",
   "metadata": {},
   "source": [
    "##### <font color= \"1F284B\" >- Distrito Retiro</font>"
   ]
  },
  {
   "cell_type": "code",
   "execution_count": null,
   "metadata": {},
   "outputs": [],
   "source": [
    "pacifico_retiro = pisos(Retiro[0], distritos[2])"
   ]
  },
  {
   "cell_type": "code",
   "execution_count": null,
   "metadata": {},
   "outputs": [],
   "source": [
    "adelfas_retiro = pisos(Retiro[1], distritos[2])"
   ]
  },
  {
   "cell_type": "code",
   "execution_count": null,
   "metadata": {},
   "outputs": [],
   "source": [
    "estrella_retiro = pisos(Retiro[2], distritos[2])"
   ]
  },
  {
   "cell_type": "code",
   "execution_count": null,
   "metadata": {},
   "outputs": [],
   "source": [
    "ibiza_retiro = pisos(Retiro[3], distritos[2])"
   ]
  },
  {
   "cell_type": "code",
   "execution_count": null,
   "metadata": {},
   "outputs": [],
   "source": [
    "jeronimos_retiro = pisos(Retiro[4], distritos[2])"
   ]
  },
  {
   "cell_type": "code",
   "execution_count": null,
   "metadata": {},
   "outputs": [],
   "source": [
    "niñojesus_retiro = pisos(Retiro[4], distritos[2])"
   ]
  },
  {
   "cell_type": "code",
   "execution_count": null,
   "metadata": {},
   "outputs": [],
   "source": [
    "df_retiro = pd.DataFrame([pacifico_retiro,adelfas_retiro,estrella_retiro,\n",
    "                          ibiza_retiro,jeronimos_retiro,niñojesus_retiro],\n",
    "                         columns = [\"precio\",\"caracteristicas\",\"superficie\"])"
   ]
  },
  {
   "cell_type": "code",
   "execution_count": null,
   "metadata": {},
   "outputs": [],
   "source": [
    "df_retiro"
   ]
  },
  {
   "cell_type": "code",
   "execution_count": null,
   "metadata": {},
   "outputs": [],
   "source": [
    "df_retiro.to_csv(\"df_retiro.csv\",index=True)"
   ]
  },
  {
   "cell_type": "code",
   "execution_count": null,
   "metadata": {},
   "outputs": [],
   "source": [
    "df_retiro.to_excel(\"df_retiro.xlsx\",index=True)"
   ]
  },
  {
   "cell_type": "markdown",
   "metadata": {},
   "source": [
    "##### <font color= \"1F284B\" >- Distrito Salamanca</font>"
   ]
  },
  {
   "cell_type": "code",
   "execution_count": null,
   "metadata": {},
   "outputs": [],
   "source": [
    "recoletos_salamanca = pisos(Salamanca[0], distritos[3])"
   ]
  },
  {
   "cell_type": "code",
   "execution_count": null,
   "metadata": {},
   "outputs": [],
   "source": [
    "goya_salamanca = pisos(Salamanca[1], distritos[3])"
   ]
  },
  {
   "cell_type": "code",
   "execution_count": null,
   "metadata": {},
   "outputs": [],
   "source": [
    "fuenteberro_salamanca = pisos(Salamanca[2], distritos[3])"
   ]
  },
  {
   "cell_type": "code",
   "execution_count": null,
   "metadata": {},
   "outputs": [],
   "source": [
    "guindalera_salamanca = pisos(Salamanca[3], distritos[3])"
   ]
  },
  {
   "cell_type": "code",
   "execution_count": null,
   "metadata": {},
   "outputs": [],
   "source": [
    "lista_salamanca = pisos(Salamanca[4], distritos[3])"
   ]
  },
  {
   "cell_type": "code",
   "execution_count": null,
   "metadata": {},
   "outputs": [],
   "source": [
    "castellana_salamanca = pisos(Salamanca[5], distritos[3])"
   ]
  },
  {
   "cell_type": "code",
   "execution_count": null,
   "metadata": {},
   "outputs": [],
   "source": [
    "df_salamanca = pd.DataFrame([recoletos_salamanca,goya_salamanca,fuenteberro_salamanca,\n",
    "                          guindalera_salamanca,lista_salamanca,castellana_salamanca],\n",
    "                         columns = [\"precio\",\"caracteristicas\",\"superficie\"])"
   ]
  },
  {
   "cell_type": "code",
   "execution_count": null,
   "metadata": {},
   "outputs": [],
   "source": [
    "df_salamanca"
   ]
  },
  {
   "cell_type": "code",
   "execution_count": null,
   "metadata": {},
   "outputs": [],
   "source": [
    "df_salamanca.to_csv(\"df_salamanca.csv\",index=True)"
   ]
  },
  {
   "cell_type": "code",
   "execution_count": null,
   "metadata": {},
   "outputs": [],
   "source": [
    "df_salamanca.to_excel(\"df_salamanca.xlsx\",index=True)"
   ]
  },
  {
   "cell_type": "markdown",
   "metadata": {},
   "source": [
    "##### <font color= \"1F284B\" >- Distrito Chamartin</font>"
   ]
  },
  {
   "cell_type": "code",
   "execution_count": null,
   "metadata": {},
   "outputs": [],
   "source": [
    "viso_chamartin = pisos(Chamartin[0], distritos[4])"
   ]
  },
  {
   "cell_type": "code",
   "execution_count": null,
   "metadata": {},
   "outputs": [],
   "source": [
    "prosperidad_chamartin = pisos(Chamartin[1], distritos[4])"
   ]
  },
  {
   "cell_type": "code",
   "execution_count": null,
   "metadata": {},
   "outputs": [],
   "source": [
    "ciudadjardin_chamartin = pisos(Chamartin[2], distritos[4])"
   ]
  },
  {
   "cell_type": "code",
   "execution_count": null,
   "metadata": {},
   "outputs": [],
   "source": [
    "hispanoamerica_chamartin = pisos(Chamartin[3], distritos[4])"
   ]
  },
  {
   "cell_type": "code",
   "execution_count": null,
   "metadata": {},
   "outputs": [],
   "source": [
    "nuevaespaña_chamartin = pisos(Chamartin[4], distritos[4])"
   ]
  },
  {
   "cell_type": "code",
   "execution_count": null,
   "metadata": {},
   "outputs": [],
   "source": [
    "castilla_chamartin = pisos(Chamartin[5], distritos[4])"
   ]
  },
  {
   "cell_type": "code",
   "execution_count": null,
   "metadata": {},
   "outputs": [],
   "source": [
    "df_chamartin = pd.DataFrame([viso_chamartin,prosperidad_chamartin,ciudadjardin_chamartin,\n",
    "                          hispanoamerica_chamartin,nuevaespaña_chamartin,castilla_chamartin],\n",
    "                         columns = [\"precio\",\"caracteristicas\",\"superficie\"])"
   ]
  },
  {
   "cell_type": "code",
   "execution_count": null,
   "metadata": {},
   "outputs": [],
   "source": [
    "df_chamartin"
   ]
  },
  {
   "cell_type": "code",
   "execution_count": null,
   "metadata": {},
   "outputs": [],
   "source": [
    "df_chamartin.to_csv(\"df_chamartin.csv\",index=True)"
   ]
  },
  {
   "cell_type": "code",
   "execution_count": null,
   "metadata": {},
   "outputs": [],
   "source": [
    "df_chamartin.to_excel(\"df_chamartin.xlsx\",index=True)"
   ]
  },
  {
   "cell_type": "markdown",
   "metadata": {},
   "source": [
    "##### <font color= \"1F284B\" >- Distrito Tetuán</font>"
   ]
  },
  {
   "cell_type": "code",
   "execution_count": null,
   "metadata": {},
   "outputs": [],
   "source": [
    "bellasvistas_tetuan = pisos(Tetuan[0], distritos[5])"
   ]
  },
  {
   "cell_type": "code",
   "execution_count": null,
   "metadata": {},
   "outputs": [],
   "source": [
    "cuatrocaminos_tetuan = pisos(Tetuan[1], distritos[5])"
   ]
  },
  {
   "cell_type": "code",
   "execution_count": null,
   "metadata": {},
   "outputs": [],
   "source": [
    "castillejos_tetuan = pisos(Tetuan[2], distritos[5])"
   ]
  },
  {
   "cell_type": "code",
   "execution_count": null,
   "metadata": {},
   "outputs": [],
   "source": [
    "almenara_tetuan = pisos(Tetuan[3], distritos[5])"
   ]
  },
  {
   "cell_type": "code",
   "execution_count": null,
   "metadata": {},
   "outputs": [],
   "source": [
    "valdeacaderas_tetuan = pisos(Tetuan[4], distritos[5])"
   ]
  },
  {
   "cell_type": "code",
   "execution_count": null,
   "metadata": {},
   "outputs": [],
   "source": [
    "berruguete_tetuan = pisos(Tetuan[5], distritos[5])"
   ]
  },
  {
   "cell_type": "code",
   "execution_count": null,
   "metadata": {},
   "outputs": [],
   "source": [
    "df_tetuan = pd.DataFrame([bellasvistas_tetuan,cuatrocaminos_tetuan,castillejos_tetuan,\n",
    "                          almenara_tetuan,valdeacaderas_tetuan,berruguete_tetuan],\n",
    "                         columns = [\"precio\",\"caracteristicas\",\"superficie\"])"
   ]
  },
  {
   "cell_type": "code",
   "execution_count": null,
   "metadata": {},
   "outputs": [],
   "source": [
    "df_tetuan"
   ]
  },
  {
   "cell_type": "code",
   "execution_count": null,
   "metadata": {},
   "outputs": [],
   "source": [
    "df_tetuan.to_csv(\"df_tetuan.csv\",index=True)"
   ]
  },
  {
   "cell_type": "code",
   "execution_count": null,
   "metadata": {},
   "outputs": [],
   "source": [
    "df_tetuan.to_excel(\"df_tetuan.xlsx\",index=True)"
   ]
  },
  {
   "cell_type": "markdown",
   "metadata": {},
   "source": [
    "##### <font color= \"1F284B\" >- Distrito Chamberi</font>"
   ]
  },
  {
   "cell_type": "code",
   "execution_count": null,
   "metadata": {},
   "outputs": [],
   "source": [
    "bellasvistas_chamberi = pisos(Chamberi[0], distritos[6])"
   ]
  },
  {
   "cell_type": "code",
   "execution_count": null,
   "metadata": {},
   "outputs": [],
   "source": [
    "cuatrocaminos_chamberi = pisos(Chamberi[1], distritos[6])"
   ]
  },
  {
   "cell_type": "code",
   "execution_count": null,
   "metadata": {},
   "outputs": [],
   "source": [
    "castillejos_chamberi = pisos(Chamberi[2], distritos[6])"
   ]
  },
  {
   "cell_type": "code",
   "execution_count": null,
   "metadata": {},
   "outputs": [],
   "source": [
    "almenara_chamberi = pisos(Chamberi[3], distritos[6])"
   ]
  },
  {
   "cell_type": "code",
   "execution_count": null,
   "metadata": {},
   "outputs": [],
   "source": [
    "valdeacaderas_chamberi = pisos(Chamberi[4], distritos[6])"
   ]
  },
  {
   "cell_type": "code",
   "execution_count": null,
   "metadata": {},
   "outputs": [],
   "source": [
    "berruguete_chamberi = pisos(Chamberi[5], distritos[6])"
   ]
  },
  {
   "cell_type": "code",
   "execution_count": null,
   "metadata": {},
   "outputs": [],
   "source": [
    "df_chamberi = pd.DataFrame([bellasvistas_tetuan,cuatrocaminos_tetuan,castillejos_tetuan,\n",
    "                          almenara_tetuan,valdeacaderas_tetuan,berruguete_tetuan],\n",
    "                         columns = [\"precio\",\"caracteristicas\",\"superficie\"])"
   ]
  },
  {
   "cell_type": "code",
   "execution_count": null,
   "metadata": {},
   "outputs": [],
   "source": [
    "df_chamberi"
   ]
  },
  {
   "cell_type": "code",
   "execution_count": null,
   "metadata": {},
   "outputs": [],
   "source": [
    "df_chamberi.to_csv(\"df_chamberi.csv\",index=True)"
   ]
  },
  {
   "cell_type": "code",
   "execution_count": null,
   "metadata": {},
   "outputs": [],
   "source": [
    "df_chamberi.to_excel(\"df_chamberi.xlsx\",index=True)"
   ]
  },
  {
   "cell_type": "markdown",
   "metadata": {},
   "source": [
    "##### <font color= \"1F284B\" >- Distrito Fuencarral</font>"
   ]
  },
  {
   "cell_type": "code",
   "execution_count": null,
   "metadata": {},
   "outputs": [],
   "source": [
    "pardo_fuencarral = pisos(Fuencarral[0], distritos[7])"
   ]
  },
  {
   "cell_type": "code",
   "execution_count": null,
   "metadata": {},
   "outputs": [],
   "source": [
    "fuentelarreina_fuencarral = pisos(Fuencarral[1], distritos[7])"
   ]
  },
  {
   "cell_type": "code",
   "execution_count": null,
   "metadata": {},
   "outputs": [],
   "source": [
    "peñagrande_fuencarral = pisos(Fuencarral[2], distritos[7])"
   ]
  },
  {
   "cell_type": "code",
   "execution_count": null,
   "metadata": {},
   "outputs": [],
   "source": [
    "pilar_fuencarral = pisos(Fuencarral[3], distritos[7])"
   ]
  },
  {
   "cell_type": "code",
   "execution_count": null,
   "metadata": {},
   "outputs": [],
   "source": [
    "lapaz_fuencarral = pisos(Fuencarral[4], distritos[7])"
   ]
  },
  {
   "cell_type": "code",
   "execution_count": null,
   "metadata": {},
   "outputs": [],
   "source": [
    "valverde_fuencarral = pisos(Fuencarral[5], distritos[7])"
   ]
  },
  {
   "cell_type": "code",
   "execution_count": null,
   "metadata": {},
   "outputs": [],
   "source": [
    "mirasierra_fuencarral = pisos(Fuencarral[5], distritos[7])"
   ]
  },
  {
   "cell_type": "code",
   "execution_count": null,
   "metadata": {},
   "outputs": [],
   "source": [
    "goloso_fuencarral = pisos(Fuencarral[5], distritos[7])"
   ]
  },
  {
   "cell_type": "code",
   "execution_count": null,
   "metadata": {},
   "outputs": [],
   "source": [
    "df_fuencarral = pd.DataFrame([pardo_fuencarral,fuentelarreina_fuencarral,peñagrande_fuencarral,\n",
    "                          pilar_fuencarral,lapaz_fuencarral,valverde_fuencarral,mirasierra_fuencarral,goloso_fuencarral],\n",
    "                         columns = [\"precio\",\"caracteristicas\",\"superficie\"])"
   ]
  },
  {
   "cell_type": "code",
   "execution_count": null,
   "metadata": {},
   "outputs": [],
   "source": [
    "df_fuencarral"
   ]
  },
  {
   "cell_type": "code",
   "execution_count": null,
   "metadata": {},
   "outputs": [],
   "source": [
    "df_fuencarral.to_csv(\"df_fuencarral.csv\",index=True)"
   ]
  },
  {
   "cell_type": "code",
   "execution_count": null,
   "metadata": {},
   "outputs": [],
   "source": [
    "df_fuencarral.to_excel(\"df_fuencarral.xlsx\",index=True)"
   ]
  },
  {
   "cell_type": "markdown",
   "metadata": {},
   "source": [
    "##### <font color= \"1F284B\" >- Distrito Moncloa</font>"
   ]
  },
  {
   "cell_type": "code",
   "execution_count": null,
   "metadata": {},
   "outputs": [],
   "source": [
    "casacampo_moncloa = pisos(Moncloa[0], distritos[8])"
   ]
  },
  {
   "cell_type": "code",
   "execution_count": null,
   "metadata": {},
   "outputs": [],
   "source": [
    "arguelles_moncloa = pisos(Moncloa[1], distritos[8])"
   ]
  },
  {
   "cell_type": "code",
   "execution_count": null,
   "metadata": {},
   "outputs": [],
   "source": [
    "ciu_moncloa = pisos(Moncloa[2], distritos[8])"
   ]
  },
  {
   "cell_type": "code",
   "execution_count": null,
   "metadata": {},
   "outputs": [],
   "source": [
    "valdezarza_moncloa = pisos(Moncloa[3], distritos[8])"
   ]
  },
  {
   "cell_type": "code",
   "execution_count": null,
   "metadata": {},
   "outputs": [],
   "source": [
    "valdemarin_moncloa = pisos(Moncloa[4], distritos[8])"
   ]
  },
  {
   "cell_type": "code",
   "execution_count": null,
   "metadata": {},
   "outputs": [],
   "source": [
    "plantio_moncloa = pisos(Moncloa[5], distritos[8])"
   ]
  },
  {
   "cell_type": "code",
   "execution_count": null,
   "metadata": {},
   "outputs": [],
   "source": [
    "aravaca_moncloa = pisos(Moncloa[5], distritos[8])"
   ]
  },
  {
   "cell_type": "code",
   "execution_count": null,
   "metadata": {},
   "outputs": [],
   "source": [
    "df_moncloa = pd.DataFrame([casacampo_moncloa,arguelles_moncloa,ciu_moncloa,\n",
    "                          valdezarza_moncloa,valdemarin_moncloa,plantio_moncloa,aravaca_moncloa],\n",
    "                         columns = [\"precio\",\"caracteristicas\",\"superficie\"])"
   ]
  },
  {
   "cell_type": "code",
   "execution_count": null,
   "metadata": {},
   "outputs": [],
   "source": [
    "df_moncloa"
   ]
  },
  {
   "cell_type": "code",
   "execution_count": null,
   "metadata": {},
   "outputs": [],
   "source": [
    "df_moncloa.to_csv(\"df_moncloa.csv\",index=True)"
   ]
  },
  {
   "cell_type": "code",
   "execution_count": null,
   "metadata": {},
   "outputs": [],
   "source": [
    "df_moncloa.to_excel(\"df_moncloa.xlsx\",index=True)"
   ]
  },
  {
   "cell_type": "markdown",
   "metadata": {},
   "source": [
    "##### <font color= \"1F284B\" >- Distrito Latina</font>"
   ]
  },
  {
   "cell_type": "code",
   "execution_count": null,
   "metadata": {},
   "outputs": [],
   "source": [
    "carmenes_latina = pisos(Latina[0], distritos[9])"
   ]
  },
  {
   "cell_type": "code",
   "execution_count": null,
   "metadata": {},
   "outputs": [],
   "source": [
    "puertaangel_latina = pisos(Latina[1], distritos[9])"
   ]
  },
  {
   "cell_type": "code",
   "execution_count": null,
   "metadata": {},
   "outputs": [],
   "source": [
    "lucero_latina = pisos(Latina[2], distritos[9])"
   ]
  },
  {
   "cell_type": "code",
   "execution_count": null,
   "metadata": {},
   "outputs": [],
   "source": [
    "aluche_latina = pisos(Latina[3], distritos[9])"
   ]
  },
  {
   "cell_type": "code",
   "execution_count": null,
   "metadata": {},
   "outputs": [],
   "source": [
    "campamento_latina = pisos(Latina[4], distritos[9])"
   ]
  },
  {
   "cell_type": "code",
   "execution_count": null,
   "metadata": {},
   "outputs": [],
   "source": [
    "cuatrovientos_latina = pisos(Latina[5], distritos[9])"
   ]
  },
  {
   "cell_type": "code",
   "execution_count": null,
   "metadata": {},
   "outputs": [],
   "source": [
    "aguilas_latina = pisos(Latina[5], distritos[9])"
   ]
  },
  {
   "cell_type": "code",
   "execution_count": null,
   "metadata": {},
   "outputs": [],
   "source": [
    "df_latina = pd.DataFrame([carmenes_latina,puertaangel_latina,lucero_latina,\n",
    "                          aluche_latina,campamento_latina,cuatrovientos_latina,aguilas_latina],\n",
    "                         columns = [\"precio\",\"caracteristicas\",\"superficie\"])"
   ]
  },
  {
   "cell_type": "code",
   "execution_count": null,
   "metadata": {},
   "outputs": [],
   "source": [
    "df_latina"
   ]
  },
  {
   "cell_type": "code",
   "execution_count": null,
   "metadata": {},
   "outputs": [],
   "source": [
    "df_latina.to_csv(\"df_latina.csv\",index=True)"
   ]
  },
  {
   "cell_type": "code",
   "execution_count": null,
   "metadata": {},
   "outputs": [],
   "source": [
    "df_latina.to_excel(\"df_latina.xlsx\",index=True)"
   ]
  },
  {
   "cell_type": "markdown",
   "metadata": {},
   "source": [
    "##### <font color= \"1F284B\" >- Distrito Carabanchel</font>"
   ]
  },
  {
   "cell_type": "code",
   "execution_count": null,
   "metadata": {},
   "outputs": [],
   "source": [
    "comillas_carabanchel = pisos(Carabanchel[0], distritos[10])"
   ]
  },
  {
   "cell_type": "code",
   "execution_count": null,
   "metadata": {},
   "outputs": [],
   "source": [
    "opañel_carabanchel = pisos(Carabanchel[1], distritos[10])"
   ]
  },
  {
   "cell_type": "code",
   "execution_count": null,
   "metadata": {},
   "outputs": [],
   "source": [
    "sanisidro_carabanchel = pisos(Carabanchel[2], distritos[10])"
   ]
  },
  {
   "cell_type": "code",
   "execution_count": null,
   "metadata": {},
   "outputs": [],
   "source": [
    "vistaalegre_carabanchel = pisos(Carabanchel[3], distritos[10])"
   ]
  },
  {
   "cell_type": "code",
   "execution_count": null,
   "metadata": {},
   "outputs": [],
   "source": [
    "puertabonita_carabanchel = pisos(Carabanchel[4], distritos[10])"
   ]
  },
  {
   "cell_type": "code",
   "execution_count": null,
   "metadata": {},
   "outputs": [],
   "source": [
    "buenavista_carabanchel = pisos(Carabanchel[5], distritos[10])"
   ]
  },
  {
   "cell_type": "code",
   "execution_count": null,
   "metadata": {},
   "outputs": [],
   "source": [
    "abrantes_carabanchel = pisos(Carabanchel[5], distritos[10])"
   ]
  },
  {
   "cell_type": "code",
   "execution_count": null,
   "metadata": {},
   "outputs": [],
   "source": [
    "df_latina = pd.DataFrame([comillas_carabanchel,opañel_carabanchel,sanisidro_carabanchel,\n",
    "                          vistaalegre_carabanchel,puertabonita_carabanchel,buenavista_carabanchel,abrantes_carabanchel],\n",
    "                         columns = [\"precio\",\"caracteristicas\",\"superficie\"])"
   ]
  },
  {
   "cell_type": "code",
   "execution_count": null,
   "metadata": {},
   "outputs": [],
   "source": [
    "df_latina"
   ]
  },
  {
   "cell_type": "code",
   "execution_count": null,
   "metadata": {},
   "outputs": [],
   "source": [
    "df_latina.to_csv(\"df_latina.csv\",index=True)"
   ]
  },
  {
   "cell_type": "code",
   "execution_count": null,
   "metadata": {},
   "outputs": [],
   "source": [
    "df_latina.to_excel(\"df_latina.xlsx\",index=True)"
   ]
  },
  {
   "cell_type": "markdown",
   "metadata": {},
   "source": [
    "##### <font color= \"1F284B\" >- Distrito Usera</font>"
   ]
  },
  {
   "cell_type": "code",
   "execution_count": null,
   "metadata": {},
   "outputs": [],
   "source": [
    "orcasitas_usera = pisos(Carabanchel[0], distritos[10])"
   ]
  },
  {
   "cell_type": "code",
   "execution_count": null,
   "metadata": {},
   "outputs": [],
   "source": [
    "orcasur_usera = pisos(Carabanchel[1], distritos[10])"
   ]
  },
  {
   "cell_type": "code",
   "execution_count": null,
   "metadata": {},
   "outputs": [],
   "source": [
    "sanfermin_usera = pisos(Carabanchel[2], distritos[10])"
   ]
  },
  {
   "cell_type": "code",
   "execution_count": null,
   "metadata": {},
   "outputs": [],
   "source": [
    "almendrales_usera = pisos(Carabanchel[3], distritos[10])"
   ]
  },
  {
   "cell_type": "code",
   "execution_count": null,
   "metadata": {},
   "outputs": [],
   "source": [
    "moscardo_usera = pisos(Carabanchel[4], distritos[10])"
   ]
  },
  {
   "cell_type": "code",
   "execution_count": null,
   "metadata": {},
   "outputs": [],
   "source": [
    "zofio_usera = pisos(Carabanchel[5], distritos[10])"
   ]
  },
  {
   "cell_type": "code",
   "execution_count": null,
   "metadata": {},
   "outputs": [],
   "source": [
    "pradolongo_usera = pisos(Carabanchel[5], distritos[10])"
   ]
  },
  {
   "cell_type": "code",
   "execution_count": null,
   "metadata": {},
   "outputs": [],
   "source": [
    "df_usera = pd.DataFrame([orcasitas_usera,orcasur_usera,sanfermin_usera,\n",
    "                          almendrales_usera,moscardo_usera,zofio_usera,pradolongo_usera],\n",
    "                         columns = [\"precio\",\"caracteristicas\",\"superficie\"])"
   ]
  },
  {
   "cell_type": "code",
   "execution_count": null,
   "metadata": {},
   "outputs": [],
   "source": [
    "df_usera"
   ]
  },
  {
   "cell_type": "code",
   "execution_count": null,
   "metadata": {},
   "outputs": [],
   "source": [
    "df_usera.to_csv(\"df_usera.csv\",index=True)"
   ]
  },
  {
   "cell_type": "code",
   "execution_count": null,
   "metadata": {},
   "outputs": [],
   "source": [
    "df_usera.to_excel(\"df_usera.xlsx\",index=True)"
   ]
  },
  {
   "cell_type": "markdown",
   "metadata": {},
   "source": [
    "##### <font color= \"1F284B\" >- Distrito Puente Vallecas</font>"
   ]
  },
  {
   "cell_type": "code",
   "execution_count": null,
   "metadata": {},
   "outputs": [],
   "source": [
    "entrevias_vallecas = pisos(Puente_Vallecas[0], distritos[11])"
   ]
  },
  {
   "cell_type": "code",
   "execution_count": null,
   "metadata": {},
   "outputs": [],
   "source": [
    "sandiego_vallecas = pisos(Puente_Vallecas[1], distritos[11])"
   ]
  },
  {
   "cell_type": "code",
   "execution_count": null,
   "metadata": {},
   "outputs": [],
   "source": [
    "palomerasbajas_vallecas = pisos(Puente_Vallecas[2], distritos[11])"
   ]
  },
  {
   "cell_type": "code",
   "execution_count": null,
   "metadata": {},
   "outputs": [],
   "source": [
    "palomerassureste_vallecas = pisos(Puente_Vallecas[3], distritos[11])"
   ]
  },
  {
   "cell_type": "code",
   "execution_count": null,
   "metadata": {},
   "outputs": [],
   "source": [
    "puentevallecas_vallecas = pisos(Puente_Vallecas[4], distritos[11])"
   ]
  },
  {
   "cell_type": "code",
   "execution_count": null,
   "metadata": {},
   "outputs": [],
   "source": [
    "portazgo_vallecas = pisos(Puente_Vallecas[5], distritos[11])"
   ]
  },
  {
   "cell_type": "code",
   "execution_count": null,
   "metadata": {},
   "outputs": [],
   "source": [
    "numancia_vallecas = pisos(Puente_Vallecas[6], distritos[11])"
   ]
  },
  {
   "cell_type": "code",
   "execution_count": null,
   "metadata": {},
   "outputs": [],
   "source": [
    "df_vallecas = pd.DataFrame([entrevias_vallecas,sandiego_vallecas,palomerasbajas_vallecas,\n",
    "                          palomerassureste_vallecas,puentevallecas_vallecas,portazgo_vallecas,numancia_vallecas],\n",
    "                         columns = [\"precio\",\"caracteristicas\",\"superficie\"])"
   ]
  },
  {
   "cell_type": "code",
   "execution_count": null,
   "metadata": {},
   "outputs": [],
   "source": [
    "df_vallecas"
   ]
  },
  {
   "cell_type": "code",
   "execution_count": null,
   "metadata": {},
   "outputs": [],
   "source": [
    "df_vallecas.to_csv(\"df_vallecas.csv\",index=True)"
   ]
  },
  {
   "cell_type": "code",
   "execution_count": null,
   "metadata": {},
   "outputs": [],
   "source": [
    "df_vallecas.to_excel(\"df_vallecas.xlsx\",index=True)"
   ]
  },
  {
   "cell_type": "markdown",
   "metadata": {},
   "source": [
    "##### <font color= \"1F284B\" >- Distrito Moratalaz</font>"
   ]
  },
  {
   "cell_type": "code",
   "execution_count": null,
   "metadata": {},
   "outputs": [],
   "source": [
    "pavones_moratalaz = pisos(Moratalaz[0], distritos[12])"
   ]
  },
  {
   "cell_type": "code",
   "execution_count": null,
   "metadata": {},
   "outputs": [],
   "source": [
    "horcajo_moratalaz = pisos(Moratalaz[1], distritos[12])"
   ]
  },
  {
   "cell_type": "code",
   "execution_count": null,
   "metadata": {},
   "outputs": [],
   "source": [
    "marroquina_moratalaz = pisos(Moratalaz[2], distritos[12])"
   ]
  },
  {
   "cell_type": "code",
   "execution_count": null,
   "metadata": {},
   "outputs": [],
   "source": [
    "medialengua_moratalaz = pisos(Moratalaz[3], distritos[12])"
   ]
  },
  {
   "cell_type": "code",
   "execution_count": null,
   "metadata": {},
   "outputs": [],
   "source": [
    "fontarron_moratalaz = pisos(Moratalaz[4], distritos[12])"
   ]
  },
  {
   "cell_type": "code",
   "execution_count": null,
   "metadata": {},
   "outputs": [],
   "source": [
    "vinateros_moratalaz = pisos(Moratalaz[5], distritos[12])"
   ]
  },
  {
   "cell_type": "code",
   "execution_count": null,
   "metadata": {},
   "outputs": [],
   "source": [
    "df_moratalaz = pd.DataFrame([pavones_moratalaz,horcajo_moratalaz,marroquina_moratalaz,\n",
    "                          medialengua_moratalaz,fontarron_moratalaz,vinateros_moratalaz],\n",
    "                         columns = [\"precio\",\"caracteristicas\",\"superficie\"])"
   ]
  },
  {
   "cell_type": "code",
   "execution_count": null,
   "metadata": {},
   "outputs": [],
   "source": [
    "df_moratalaz"
   ]
  },
  {
   "cell_type": "code",
   "execution_count": null,
   "metadata": {},
   "outputs": [],
   "source": [
    "df_moratalaz.to_csv(\"df_moratalaz.csv\",index=True)"
   ]
  },
  {
   "cell_type": "code",
   "execution_count": null,
   "metadata": {},
   "outputs": [],
   "source": [
    "df_moratalaz.to_excel(\"df_moratalaz.xlsx\",index=True)"
   ]
  },
  {
   "cell_type": "markdown",
   "metadata": {},
   "source": [
    "##### <font color= \"1F284B\" >- Distrito Ciudad lineal</font>"
   ]
  },
  {
   "cell_type": "code",
   "execution_count": null,
   "metadata": {},
   "outputs": [],
   "source": [
    "ventas_clineal = pisos(Ciudad_Lineal[0], distritos[13])"
   ]
  },
  {
   "cell_type": "code",
   "execution_count": null,
   "metadata": {},
   "outputs": [],
   "source": [
    "pueblonuevo_clineal = pisos(Ciudad_Lineal[1], distritos[13])"
   ]
  },
  {
   "cell_type": "code",
   "execution_count": null,
   "metadata": {},
   "outputs": [],
   "source": [
    "quintana_clineal = pisos(Ciudad_Lineal[2], distritos[13])"
   ]
  },
  {
   "cell_type": "code",
   "execution_count": null,
   "metadata": {},
   "outputs": [],
   "source": [
    "conception_clineal = pisos(Ciudad_Lineal[3], distritos[13])"
   ]
  },
  {
   "cell_type": "code",
   "execution_count": null,
   "metadata": {},
   "outputs": [],
   "source": [
    "sanpascual_clineal = pisos(Ciudad_Lineal[4], distritos[13])"
   ]
  },
  {
   "cell_type": "code",
   "execution_count": null,
   "metadata": {},
   "outputs": [],
   "source": [
    "sanjuan_clineal = pisos(Ciudad_Lineal[5], distritos[13])"
   ]
  },
  {
   "cell_type": "code",
   "execution_count": null,
   "metadata": {},
   "outputs": [],
   "source": [
    "colina_clineal = pisos(Ciudad_Lineal[6], distritos[13])"
   ]
  },
  {
   "cell_type": "code",
   "execution_count": null,
   "metadata": {},
   "outputs": [],
   "source": [
    "atalaya_clineal = pisos(Ciudad_Lineal[7], distritos[13])"
   ]
  },
  {
   "cell_type": "code",
   "execution_count": null,
   "metadata": {},
   "outputs": [],
   "source": [
    "df_clineal = pd.DataFrame([ventas_clineal,pueblonuevo_clineal,quintana_clineal,\n",
    "                          conception_clineal,sanpascual_clineal,sanjuan_clineal,colina_clineal,atalaya_clineal],\n",
    "                         columns = [\"precio\",\"caracteristicas\",\"superficie\"])"
   ]
  },
  {
   "cell_type": "code",
   "execution_count": null,
   "metadata": {},
   "outputs": [],
   "source": [
    "df_clineal"
   ]
  },
  {
   "cell_type": "code",
   "execution_count": null,
   "metadata": {},
   "outputs": [],
   "source": [
    "df_clineal.to_csv(\"df_clineal.csv\",index=True)"
   ]
  },
  {
   "cell_type": "code",
   "execution_count": null,
   "metadata": {},
   "outputs": [],
   "source": [
    "df_clineal.to_excel(\"df_clineal.xlsx\",index=True)"
   ]
  },
  {
   "cell_type": "markdown",
   "metadata": {},
   "source": [
    "##### <font color= \"1F284B\" >- Distrito Hortaleza</font>"
   ]
  },
  {
   "cell_type": "code",
   "execution_count": null,
   "metadata": {},
   "outputs": [],
   "source": [
    "palomas_hortaleza = pisos(Hortaleza[0], distritos[14])"
   ]
  },
  {
   "cell_type": "code",
   "execution_count": null,
   "metadata": {},
   "outputs": [],
   "source": [
    "piovera_hortaleza = pisos(Hortaleza[1], distritos[14])"
   ]
  },
  {
   "cell_type": "code",
   "execution_count": null,
   "metadata": {},
   "outputs": [],
   "source": [
    "canillas_hortaleza = pisos(Hortaleza[2], distritos[14])"
   ]
  },
  {
   "cell_type": "code",
   "execution_count": null,
   "metadata": {},
   "outputs": [],
   "source": [
    "pinardelrey_hortaleza = pisos(Hortaleza[3], distritos[14])"
   ]
  },
  {
   "cell_type": "code",
   "execution_count": null,
   "metadata": {},
   "outputs": [],
   "source": [
    "apostolsantiago_hortaleza = pisos(Hortaleza[4], distritos[14])"
   ]
  },
  {
   "cell_type": "code",
   "execution_count": null,
   "metadata": {},
   "outputs": [],
   "source": [
    "valdefuentes_hortaleza = pisos(Hortaleza[5], distritos[14])"
   ]
  },
  {
   "cell_type": "code",
   "execution_count": null,
   "metadata": {},
   "outputs": [],
   "source": [
    "df_hortaleza = pd.DataFrame([palomas_hortaleza,piovera_hortaleza,canillas_hortaleza,\n",
    "                          pinardelrey_hortaleza,apostolsantiago_hortaleza,valdefuentes_hortaleza],\n",
    "                         columns = [\"precio\",\"caracteristicas\",\"superficie\"])"
   ]
  },
  {
   "cell_type": "code",
   "execution_count": null,
   "metadata": {},
   "outputs": [],
   "source": [
    "df_hortaleza"
   ]
  },
  {
   "cell_type": "code",
   "execution_count": null,
   "metadata": {},
   "outputs": [],
   "source": [
    "df_hortaleza.to_csv(\"df_hortaleza.csv\",index=True)"
   ]
  },
  {
   "cell_type": "code",
   "execution_count": null,
   "metadata": {},
   "outputs": [],
   "source": [
    "df_hortaleza.to_excel(\"df_hortaleza.xlsx\",index=True)"
   ]
  },
  {
   "cell_type": "markdown",
   "metadata": {},
   "source": [
    "##### <font color= \"1F284B\" >- Distrito Villaverde</font>"
   ]
  },
  {
   "cell_type": "code",
   "execution_count": null,
   "metadata": {},
   "outputs": [],
   "source": [
    "sanandres_villaverde = pisos(Villaverde[0], distritos[15])"
   ]
  },
  {
   "cell_type": "code",
   "execution_count": null,
   "metadata": {},
   "outputs": [],
   "source": [
    "sancristobal_villaverde = pisos(Villaverde[1], distritos[15])"
   ]
  },
  {
   "cell_type": "code",
   "execution_count": null,
   "metadata": {},
   "outputs": [],
   "source": [
    "butarque_villaverde = pisos(Villaverde[2], distritos[15])"
   ]
  },
  {
   "cell_type": "code",
   "execution_count": null,
   "metadata": {},
   "outputs": [],
   "source": [
    "losrosales_villaverde = pisos(Villaverde[3], distritos[15])"
   ]
  },
  {
   "cell_type": "code",
   "execution_count": null,
   "metadata": {},
   "outputs": [],
   "source": [
    "losangeles_villaverde = pisos(Villaverde[4], distritos[15])"
   ]
  },
  {
   "cell_type": "code",
   "execution_count": null,
   "metadata": {},
   "outputs": [],
   "source": [
    "df_villaverde = pd.DataFrame([sanandres_villaverde,sancristobal_villaverde,butarque_villaverde,\n",
    "                          losrosales_villaverde,losangeles_villaverde],\n",
    "                         columns = [\"precio\",\"caracteristicas\",\"superficie\"])"
   ]
  },
  {
   "cell_type": "code",
   "execution_count": null,
   "metadata": {},
   "outputs": [],
   "source": [
    "df_villaverde"
   ]
  },
  {
   "cell_type": "code",
   "execution_count": null,
   "metadata": {},
   "outputs": [],
   "source": [
    "df_villaverde.to_csv(\"df_villaverde.csv\",index=True)"
   ]
  },
  {
   "cell_type": "code",
   "execution_count": null,
   "metadata": {},
   "outputs": [],
   "source": [
    "df_villaverde.to_excel(\"df_villaverde.xlsx\",index=True)"
   ]
  },
  {
   "cell_type": "markdown",
   "metadata": {},
   "source": [
    "##### <font color= \"1F284B\" >- Distrito Villa de Vallecas</font>"
   ]
  },
  {
   "cell_type": "code",
   "execution_count": null,
   "metadata": {},
   "outputs": [],
   "source": [
    "casco_villvallecas = pisos(Villa_Vallecas[0], distritos[16])"
   ]
  },
  {
   "cell_type": "code",
   "execution_count": null,
   "metadata": {},
   "outputs": [],
   "source": [
    "santaeugenia_villvallecas = pisos(Villa_Vallecas[1], distritos[16])"
   ]
  },
  {
   "cell_type": "code",
   "execution_count": null,
   "metadata": {},
   "outputs": [],
   "source": [
    "ensanche_villvallecas = pisos(Villa_Vallecas[2], distritos[16])"
   ]
  },
  {
   "cell_type": "code",
   "execution_count": null,
   "metadata": {},
   "outputs": [],
   "source": [
    "df_villvallecas = pd.DataFrame([sanandres_villaverde,sancristobal_villaverde,butarque_villaverde,\n",
    "                          losrosales_villaverde,losangeles_villaverde],\n",
    "                         columns = [\"precio\",\"caracteristicas\",\"superficie\"])"
   ]
  },
  {
   "cell_type": "code",
   "execution_count": null,
   "metadata": {},
   "outputs": [],
   "source": [
    "df_villvallecas"
   ]
  },
  {
   "cell_type": "code",
   "execution_count": null,
   "metadata": {},
   "outputs": [],
   "source": [
    "df_villvallecas.to_csv(\"df_villvallecas.csv\",index=True)"
   ]
  },
  {
   "cell_type": "code",
   "execution_count": null,
   "metadata": {},
   "outputs": [],
   "source": [
    "df_villvallecas.to_excel(\"df_villvallecas.xlsx\",index=True)"
   ]
  },
  {
   "cell_type": "markdown",
   "metadata": {},
   "source": [
    "##### <font color= \"1F284B\" >- Distrito Vicalvaro</font>"
   ]
  },
  {
   "cell_type": "code",
   "execution_count": null,
   "metadata": {},
   "outputs": [],
   "source": [
    "casco_vicalvaro = pisos(Vicalvaro[0], distritos[17])"
   ]
  },
  {
   "cell_type": "code",
   "execution_count": null,
   "metadata": {},
   "outputs": [],
   "source": [
    "valdebernardo_vicalvaro = pisos(Vicalvaro[1], distritos[17])"
   ]
  },
  {
   "cell_type": "code",
   "execution_count": null,
   "metadata": {},
   "outputs": [],
   "source": [
    "valderrivas_vicalvaro = pisos(Vicalvaro[2], distritos[17])"
   ]
  },
  {
   "cell_type": "code",
   "execution_count": null,
   "metadata": {},
   "outputs": [],
   "source": [
    "cañaveral_vicalvaro = pisos(Vicalvaro[2], distritos[17])"
   ]
  },
  {
   "cell_type": "code",
   "execution_count": null,
   "metadata": {},
   "outputs": [],
   "source": [
    "df_vicalvaro = pd.DataFrame([casco_vicalvaro,valdebernardo_vicalvaro,valderrivas_vicalvaro,\n",
    "                          cañaveral_vicalvaro],\n",
    "                         columns = [\"precio\",\"caracteristicas\",\"superficie\"])"
   ]
  },
  {
   "cell_type": "code",
   "execution_count": null,
   "metadata": {},
   "outputs": [],
   "source": [
    "df_vicalvaro"
   ]
  },
  {
   "cell_type": "code",
   "execution_count": null,
   "metadata": {},
   "outputs": [],
   "source": [
    "df_vicalvaro.to_csv(\"df_vicalvaro.csv\",index=True)"
   ]
  },
  {
   "cell_type": "code",
   "execution_count": null,
   "metadata": {},
   "outputs": [],
   "source": [
    "df_vicalvaro.to_excel(\"df_vicalvaro.xlsx\",index=True)"
   ]
  },
  {
   "cell_type": "markdown",
   "metadata": {},
   "source": [
    "##### <font color= \"1F284B\" >- Distrito San Blas</font>"
   ]
  },
  {
   "cell_type": "code",
   "execution_count": null,
   "metadata": {},
   "outputs": [],
   "source": [
    "simancas_sanblas = pisos(San_blas[0], distritos[18])"
   ]
  },
  {
   "cell_type": "code",
   "execution_count": null,
   "metadata": {},
   "outputs": [],
   "source": [
    "hellin_sanblas = pisos(San_blas[1], distritos[18])"
   ]
  },
  {
   "cell_type": "code",
   "execution_count": null,
   "metadata": {},
   "outputs": [],
   "source": [
    "amposta_sanblas = pisos(San_blas[2], distritos[18])"
   ]
  },
  {
   "cell_type": "code",
   "execution_count": null,
   "metadata": {},
   "outputs": [],
   "source": [
    "arcos_sanblas = pisos(San_blas[3], distritos[18])"
   ]
  },
  {
   "cell_type": "code",
   "execution_count": null,
   "metadata": {},
   "outputs": [],
   "source": [
    "rosas_sanblas = pisos(San_blas[4], distritos[18])"
   ]
  },
  {
   "cell_type": "code",
   "execution_count": null,
   "metadata": {},
   "outputs": [],
   "source": [
    "rejas_sanblas = pisos(San_blas[5], distritos[18])"
   ]
  },
  {
   "cell_type": "code",
   "execution_count": null,
   "metadata": {},
   "outputs": [],
   "source": [
    "canillejas_sanblas = pisos(San_blas[6], distritos[18])"
   ]
  },
  {
   "cell_type": "code",
   "execution_count": null,
   "metadata": {},
   "outputs": [],
   "source": [
    "salvador_sanblas = pisos(San_blas[7], distritos[18])"
   ]
  },
  {
   "cell_type": "code",
   "execution_count": null,
   "metadata": {},
   "outputs": [],
   "source": [
    "df_sanblas = pd.DataFrame([simancas_sanblas,hellin_sanblas,amposta_sanblas,\n",
    "                          arcos_sanblas, rosas_sanblas,rejas_sanblas,canillejas_sanblas,salvador_sanblas],\n",
    "                         columns = [\"precio\",\"caracteristicas\",\"superficie\"])"
   ]
  },
  {
   "cell_type": "code",
   "execution_count": null,
   "metadata": {},
   "outputs": [],
   "source": [
    "df_sanblas"
   ]
  },
  {
   "cell_type": "code",
   "execution_count": null,
   "metadata": {},
   "outputs": [],
   "source": [
    "df_sanblas.to_csv(\"df_sanblas.csv\",index=True)"
   ]
  },
  {
   "cell_type": "code",
   "execution_count": null,
   "metadata": {},
   "outputs": [],
   "source": [
    "df_sanblas.to_excel(\"df_sanblas.xlsx\",index=True)"
   ]
  },
  {
   "cell_type": "markdown",
   "metadata": {},
   "source": [
    "##### <font color= \"1F284B\" >- Distrito Barajas</font>"
   ]
  },
  {
   "cell_type": "code",
   "execution_count": null,
   "metadata": {},
   "outputs": [],
   "source": [
    "alameda_barajas = pisos(Barajas[0], distritos[19])"
   ]
  },
  {
   "cell_type": "code",
   "execution_count": null,
   "metadata": {},
   "outputs": [],
   "source": [
    "aeropuerto_barajas = pisos(Barajas[1], distritos[19])"
   ]
  },
  {
   "cell_type": "code",
   "execution_count": null,
   "metadata": {},
   "outputs": [],
   "source": [
    "casco_barajas = pisos(Barajas[2], distritos[19])"
   ]
  },
  {
   "cell_type": "code",
   "execution_count": null,
   "metadata": {},
   "outputs": [],
   "source": [
    "timon_barajas = pisos(Barajas[3], distritos[19])"
   ]
  },
  {
   "cell_type": "code",
   "execution_count": null,
   "metadata": {},
   "outputs": [],
   "source": [
    "corralejos_barajas = pisos(Barajas[4], distritos[19])"
   ]
  },
  {
   "cell_type": "code",
   "execution_count": null,
   "metadata": {},
   "outputs": [],
   "source": [
    "df_barajas = pd.DataFrame([alameda_barajas,aeropuerto_barajas,casco_barajas,\n",
    "                          timon_barajas, corralejos_barajas],\n",
    "                         columns = [\"precio\",\"caracteristicas\",\"superficie\"])"
   ]
  },
  {
   "cell_type": "code",
   "execution_count": null,
   "metadata": {},
   "outputs": [],
   "source": [
    "df_barajas"
   ]
  },
  {
   "cell_type": "code",
   "execution_count": null,
   "metadata": {},
   "outputs": [],
   "source": [
    "df_barajas.to_csv(\"df_barajas.csv\",index=True)"
   ]
  },
  {
   "cell_type": "code",
   "execution_count": null,
   "metadata": {},
   "outputs": [],
   "source": [
    "df_barajas.to_excel(\"df_barajas.xlsx\",index=True)"
   ]
  }
 ],
 "metadata": {
  "kernelspec": {
   "display_name": "Python 3",
   "language": "python",
   "name": "python3"
  },
  "language_info": {
   "codemirror_mode": {
    "name": "ipython",
    "version": 3
   },
   "file_extension": ".py",
   "mimetype": "text/x-python",
   "name": "python",
   "nbconvert_exporter": "python",
   "pygments_lexer": "ipython3",
   "version": "3.8.5"
  }
 },
 "nbformat": 4,
 "nbformat_minor": 4
}
