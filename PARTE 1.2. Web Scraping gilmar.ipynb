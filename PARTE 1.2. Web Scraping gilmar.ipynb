{
 "cells": [
  {
   "attachments": {
    "logo%20price%20my%20home%20con%20margen.jpg": {
     "image/jpeg": "[encoded data removed]"
    }
   },
   "cell_type": "markdown",
   "metadata": {},
   "source": [
    "![logo%20price%20my%20home%20con%20margen.jpg](attachment:logo%20price%20my%20home%20con%20margen.jpg)"
   ]
  },
  {
   "cell_type": "markdown",
   "metadata": {},
   "source": [
    "> ### <font color= \"1F284B\" >**WEB SCRAPER**</font><font color= \"3B4D90\" >_Inmobiliaria Gilmar.</font>"
   ]
  },
  {
   "cell_type": "markdown",
   "metadata": {},
   "source": [
    "------"
   ]
  },
  {
   "cell_type": "markdown",
   "metadata": {},
   "source": [
    "##### <font color= \"1F284B\" >PASO 0. IMPORTAR BIBLIOTECAS.</font>"
   ]
  },
  {
   "cell_type": "code",
   "execution_count": 1,
   "metadata": {},
   "outputs": [],
   "source": [
    "from bs4 import BeautifulSoup\n",
    "from selenium import webdriver\n",
    "import pandas as pd\n",
    "from time import sleep, strftime"
   ]
  },
  {
   "cell_type": "markdown",
   "metadata": {},
   "source": [
    "------"
   ]
  },
  {
   "cell_type": "markdown",
   "metadata": {},
   "source": [
    "##### <font color= \"1F284B\" >PASO 1. FUNCIÓN PARA SACAR INFORMACIÓN DE LA WEB.</font>"
   ]
  },
  {
   "cell_type": "code",
   "execution_count": 5,
   "metadata": {},
   "outputs": [],
   "source": [
    "def sacar_info(url):\n",
    "    chrome_driver = \"C:/Users/nuria/Bootcamp Data Science/02. Febrero/chromedriver\"\n",
    "    options = webdriver.ChromeOptions()\n",
    "    options.add_argument('--incognito')\n",
    "    driver = webdriver.Chrome(executable_path=chrome_driver,options = options)\n",
    "    driver.get(url)\n",
    "    # Sacamos las características de cada vivienda.\n",
    "    zona_barrio = driver.find_element_by_xpath(\"//p[@class = 'zona']\").text\n",
    "    precio = driver.find_element_by_xpath(\"//div[@class = 'referencia']/p[3]\").text.split(\": \")[1]\n",
    "    precio_m2 = driver.find_element_by_xpath(\"//div[@class = 'referencia']/p[4][1]\").text.split(\": \")[1]\n",
    "    m2_construidos = driver.find_element_by_xpath(\"//ul[2]/li[1]/span\").text\n",
    "    habs = driver.find_element_by_xpath(\"//ul[2]/li[2]/span\").text.split(\" \")[0]\n",
    "    baños = driver.find_element_by_xpath(\"//ul[2]/li[3]/span\").text.split(\" \")[0]\n",
    "    terraza = driver.find_element_by_xpath(\"//ul[2]/li[4]/span\").text.split(\", \")[0]\n",
    "    trastero = driver.find_element_by_xpath(\"//ul[2]/li[5]/span\").text\n",
    "    garaje = driver.find_element_by_xpath(\"//ul[2]/li[6]/span\").text.split(\",\")[0]\n",
    "    \n",
    "    return  zona_barrio, precio, precio_m2, m2_construidos, habs, baños, terraza, trastero, garaje"
   ]
  },
  {
   "cell_type": "markdown",
   "metadata": {},
   "source": [
    "------"
   ]
  },
  {
   "cell_type": "markdown",
   "metadata": {},
   "source": [
    "##### <font color= \"1F284B\" >PASO 2. SACAMOS INFORMACIÓN DE CADA BARRIO.</font>"
   ]
  },
  {
   "cell_type": "markdown",
   "metadata": {},
   "source": [
    "#### <font color= \"1F284B\" >1. Centro.</font>"
   ]
  },
  {
   "cell_type": "code",
   "execution_count": 11,
   "metadata": {},
   "outputs": [],
   "source": [
    "urls_1centro = []\n",
    "for i in range(1,103):\n",
    "    try:\n",
    "        urls_1centro.append(\"C:/Users/nuria/Bootcamp%20Data%20Science/Proyecto%20Final/Html%20scraper/centro/gilmar%20(\" + str(i) +  \").html\")\n",
    "    except:\n",
    "        print(\"No hay más htmls\")       "
   ]
  },
  {
   "cell_type": "code",
   "execution_count": null,
   "metadata": {},
   "outputs": [],
   "source": [
    "lista_1centro = []\n",
    "for i in urls_1centro:\n",
    "    info_piso = sacar_info(i)\n",
    "    lista_1centro.append(info_piso)"
   ]
  },
  {
   "cell_type": "code",
   "execution_count": 13,
   "metadata": {},
   "outputs": [],
   "source": [
    "df_1_centro = pd.DataFrame(lista_1centro, columns = [\"Barrio\", \"Precio\", \"Precio_m2\", \"m2\", \"habitaciones\", \"baños\", \"terraza\", \"trastero\", \"garaje\"])"
   ]
  },
  {
   "cell_type": "code",
   "execution_count": 15,
   "metadata": {},
   "outputs": [],
   "source": [
    "df_1_centro.to_excel(\"df_1_centro.xlsx\",index=True)"
   ]
  },
  {
   "cell_type": "markdown",
   "metadata": {},
   "source": [
    "#### <font color= \"1F284B\" >2. Arganzuela.</font>"
   ]
  },
  {
   "cell_type": "code",
   "execution_count": 18,
   "metadata": {},
   "outputs": [],
   "source": [
    "urls_2arganzuela = []\n",
    "for i in range(1,47):\n",
    "    try:\n",
    "        urls_2arganzuela.append(\"C:/Users/nuria/Bootcamp%20Data%20Science/Proyecto%20Final/Html%20scraper/arganzuela/gilmar(\" + str(i) +  \").html\")\n",
    "    except:\n",
    "        print(\"No hay más htmls\")    "
   ]
  },
  {
   "cell_type": "code",
   "execution_count": 19,
   "metadata": {},
   "outputs": [],
   "source": [
    "lista_2arganzuela = []\n",
    "for i in urls_2arganzuela:\n",
    "    info_piso = sacar_info(i)\n",
    "    lista_2arganzuela.append(info_piso)"
   ]
  },
  {
   "cell_type": "code",
   "execution_count": 20,
   "metadata": {},
   "outputs": [],
   "source": [
    "df_2_arganzuela = pd.DataFrame(lista_2arganzuela, columns = [\"Barrio\", \"Precio\", \"Precio_m2\", \"m2\", \"habitaciones\", \"baños\", \"terraza\", \"trastero\", \"garaje\"])"
   ]
  },
  {
   "cell_type": "code",
   "execution_count": 21,
   "metadata": {},
   "outputs": [],
   "source": [
    "df_2_arganzuela.to_excel(\"df_2_arganzuela.xlsx\",index=True)"
   ]
  },
  {
   "cell_type": "markdown",
   "metadata": {},
   "source": [
    "\n",
    "#### <font color= \"1F284B\" >3. Retiro.</font>"
   ]
  },
  {
   "cell_type": "code",
   "execution_count": 23,
   "metadata": {},
   "outputs": [],
   "source": [
    "urls_3retiro = []\n",
    "for i in range(1,85):\n",
    "    try:\n",
    "        urls_3retiro.append(\"C:/Users/nuria/Bootcamp%20Data%20Science/Proyecto%20Final/Html%20scraper/retiro/gilmar%20(\" + str(i) +  \").html\")\n",
    "    except:\n",
    "        print(\"No hay más htmls\")    "
   ]
  },
  {
   "cell_type": "code",
   "execution_count": null,
   "metadata": {},
   "outputs": [],
   "source": [
    "lista_3retiro = []\n",
    "for i in urls_3retiro:\n",
    "    info_piso = sacar_info(i)\n",
    "    lista_3retiro.append(info_piso)"
   ]
  },
  {
   "cell_type": "code",
   "execution_count": 27,
   "metadata": {},
   "outputs": [],
   "source": [
    "df_3_retiro = pd.DataFrame(lista_3retiro, columns = [\"Barrio\", \"Precio\", \"Precio_m2\", \"m2\", \"habitaciones\", \"baños\", \"terraza\", \"trastero\", \"garaje\"])"
   ]
  },
  {
   "cell_type": "code",
   "execution_count": 28,
   "metadata": {},
   "outputs": [],
   "source": [
    "df_3_retiro.to_excel(\"df_3_retiro.xlsx\",index=True)"
   ]
  },
  {
   "cell_type": "markdown",
   "metadata": {},
   "source": [
    "#### <font color= \"1F284B\" >4. Salamanca.</font>"
   ]
  },
  {
   "cell_type": "code",
   "execution_count": 29,
   "metadata": {},
   "outputs": [],
   "source": [
    "urls_4salamanca = []\n",
    "for i in range(1,152):\n",
    "    try:\n",
    "        urls_4salamanca.append(\"C:/Users/nuria/Bootcamp%20Data%20Science/Proyecto%20Final/Html%20scraper/salamanca/gilmar%20(\" + str(i) +  \").html\")\n",
    "    except:\n",
    "        print(\"No hay más htmls\")    "
   ]
  },
  {
   "cell_type": "code",
   "execution_count": 30,
   "metadata": {},
   "outputs": [],
   "source": [
    "lista_4salamanca = []\n",
    "for i in urls_4salamanca:\n",
    "    info_piso = sacar_info(i)\n",
    "    lista_4salamanca.append(info_piso)"
   ]
  },
  {
   "cell_type": "code",
   "execution_count": 32,
   "metadata": {},
   "outputs": [],
   "source": [
    "df_4_salamanca = pd.DataFrame(lista_4salamanca, columns = [\"Barrio\", \"Precio\", \"Precio_m2\", \"m2\", \"habitaciones\", \"baños\", \"terraza\", \"trastero\", \"garaje\"])"
   ]
  },
  {
   "cell_type": "code",
   "execution_count": 33,
   "metadata": {},
   "outputs": [],
   "source": [
    "df_4_salamanca.to_excel(\"df_4_salamanca.xlsx\",index=True)"
   ]
  },
  {
   "cell_type": "markdown",
   "metadata": {},
   "source": [
    "#### <font color= \"1F284B\" >5. Chamartín.</font>"
   ]
  },
  {
   "cell_type": "code",
   "execution_count": 36,
   "metadata": {},
   "outputs": [],
   "source": [
    "urls_5chamartin = []\n",
    "for i in range(1,107):\n",
    "    try:\n",
    "        urls_5chamartin.append(\"C:/Users/nuria/Bootcamp%20Data%20Science/Proyecto%20Final/Html%20scraper/chamartin/gilmar%20(\" + str(i) +  \").html\")\n",
    "    except:\n",
    "        print(\"No hay más htmls\")    "
   ]
  },
  {
   "cell_type": "code",
   "execution_count": 37,
   "metadata": {},
   "outputs": [],
   "source": [
    "lista_5chamartin = []\n",
    "for i in urls_5chamartin:\n",
    "    info_piso = sacar_info(i)\n",
    "    lista_5chamartin.append(info_piso)"
   ]
  },
  {
   "cell_type": "code",
   "execution_count": 38,
   "metadata": {},
   "outputs": [],
   "source": [
    "df_5_chamartin = pd.DataFrame(lista_5chamartin, columns = [\"Barrio\", \"Precio\", \"Precio_m2\", \"m2\", \"habitaciones\", \"baños\", \"terraza\", \"trastero\", \"garaje\"])"
   ]
  },
  {
   "cell_type": "code",
   "execution_count": 39,
   "metadata": {},
   "outputs": [],
   "source": [
    "df_5_chamartin.to_excel(\"df_5_chamartin.xlsx\",index=True)"
   ]
  },
  {
   "cell_type": "markdown",
   "metadata": {},
   "source": [
    "#### <font color= \"1F284B\" >6. Tetuán. (No hay pisos de este barrio en gilmar)</font>"
   ]
  },
  {
   "cell_type": "markdown",
   "metadata": {},
   "source": [
    "#### <font color= \"1F284B\" >7. Chamberí.</font>"
   ]
  },
  {
   "cell_type": "code",
   "execution_count": 40,
   "metadata": {},
   "outputs": [],
   "source": [
    "urls_7chamberi = []\n",
    "for i in range(1,53):\n",
    "    try:\n",
    "        urls_7chamberi.append(\"C:/Users/nuria/Bootcamp%20Data%20Science/Proyecto%20Final/Html%20scraper/chamberi/gilmar%20(\" + str(i) +  \").html\")\n",
    "    except:\n",
    "        print(\"No hay más htmls\")    "
   ]
  },
  {
   "cell_type": "code",
   "execution_count": 41,
   "metadata": {},
   "outputs": [],
   "source": [
    "lista_7chamberi = []\n",
    "for i in urls_7chamberi:\n",
    "    info_piso = sacar_info(i)\n",
    "    lista_7chamberi.append(info_piso)"
   ]
  },
  {
   "cell_type": "code",
   "execution_count": 42,
   "metadata": {},
   "outputs": [],
   "source": [
    "df_7_chamberi = pd.DataFrame(lista_7chamberi, columns = [\"Barrio\", \"Precio\", \"Precio_m2\", \"m2\", \"habitaciones\", \"baños\", \"terraza\", \"trastero\", \"garaje\"])"
   ]
  },
  {
   "cell_type": "code",
   "execution_count": 43,
   "metadata": {},
   "outputs": [],
   "source": [
    "df_5_chamartin.to_excel(\"df_5_chamartin.xlsx\",index=True)"
   ]
  },
  {
   "cell_type": "markdown",
   "metadata": {},
   "source": [
    "#### <font color= \"1F284B\" >8. Fuencarral.</font>"
   ]
  },
  {
   "cell_type": "code",
   "execution_count": 44,
   "metadata": {},
   "outputs": [],
   "source": [
    "urls_8fuencarral = []\n",
    "for i in range(1,29):\n",
    "    try:\n",
    "        urls_8fuencarral.append(\"C:/Users/nuria/Bootcamp%20Data%20Science/Proyecto%20Final/Html%20scraper/fuencarral/gilmar%20(\" + str(i) +  \").html\")\n",
    "    except:\n",
    "        print(\"No hay más htmls\")    "
   ]
  },
  {
   "cell_type": "code",
   "execution_count": 45,
   "metadata": {},
   "outputs": [],
   "source": [
    "lista_8fuencarral = []\n",
    "for i in urls_8fuencarral:\n",
    "    info_piso = sacar_info(i)\n",
    "    lista_8fuencarral.append(info_piso)"
   ]
  },
  {
   "cell_type": "code",
   "execution_count": 46,
   "metadata": {},
   "outputs": [],
   "source": [
    "df_8_fuencarral = pd.DataFrame(lista_8fuencarral, columns = [\"Barrio\", \"Precio\", \"Precio_m2\", \"m2\", \"habitaciones\", \"baños\", \"terraza\", \"trastero\", \"garaje\"])"
   ]
  },
  {
   "cell_type": "code",
   "execution_count": 47,
   "metadata": {},
   "outputs": [],
   "source": [
    "df_8_fuencarral.to_excel(\"df_8_fuencarral.xlsx\",index=True)"
   ]
  },
  {
   "cell_type": "markdown",
   "metadata": {},
   "source": [
    "#### <font color= \"1F284B\" >9. Fuencarral.</font>"
   ]
  },
  {
   "cell_type": "code",
   "execution_count": 48,
   "metadata": {},
   "outputs": [],
   "source": [
    "urls_9moncloa = []\n",
    "for i in range(1,32):\n",
    "    try:\n",
    "        urls_9moncloa.append(\"C:/Users/nuria/Bootcamp%20Data%20Science/Proyecto%20Final/Html%20scraper/moncloa/gilmar%20(\" + str(i) +  \").html\")\n",
    "    except:\n",
    "        print(\"No hay más htmls\")    "
   ]
  },
  {
   "cell_type": "code",
   "execution_count": 49,
   "metadata": {},
   "outputs": [],
   "source": [
    "lista_9moncloa = []\n",
    "for i in urls_9moncloa:\n",
    "    info_piso = sacar_info(i)\n",
    "    lista_9moncloa.append(info_piso)"
   ]
  },
  {
   "cell_type": "code",
   "execution_count": 50,
   "metadata": {},
   "outputs": [],
   "source": [
    "df_9_moncloa = pd.DataFrame(lista_9moncloa, columns = [\"Barrio\", \"Precio\", \"Precio_m2\", \"m2\", \"habitaciones\", \"baños\", \"terraza\", \"trastero\", \"garaje\"])"
   ]
  },
  {
   "cell_type": "code",
   "execution_count": 51,
   "metadata": {},
   "outputs": [],
   "source": [
    "df_9_moncloa.to_excel(\"df_9_moncloa.xlsx\",index=True)"
   ]
  },
  {
   "cell_type": "markdown",
   "metadata": {},
   "source": [
    "#### <font color= \"1F284B\" >10. Latina.</font>"
   ]
  },
  {
   "cell_type": "code",
   "execution_count": 52,
   "metadata": {},
   "outputs": [],
   "source": [
    "for i in range(1,12):\n",
    "    try:\n",
    "        urls_10latina.append(\"C:/Users/nuria/Bootcamp%20Data%20Science/Proyecto%20Final/Html%20scraper/latina/gilmar%20(\" + str(i) +  \").html\")\n",
    "    except:\n",
    "        print(\"No hay más htmls\")    "
   ]
  },
  {
   "cell_type": "code",
   "execution_count": 55,
   "metadata": {},
   "outputs": [],
   "source": [
    "lista_10latina = []\n",
    "for i in urls_10latina:\n",
    "    info_piso = sacar_info(i)\n",
    "    lista_10latina.append(info_piso)"
   ]
  },
  {
   "cell_type": "code",
   "execution_count": 56,
   "metadata": {},
   "outputs": [],
   "source": [
    "df_10_latina = pd.DataFrame(lista_10latina, columns = [\"Barrio\", \"Precio\", \"Precio_m2\", \"m2\", \"habitaciones\", \"baños\", \"terraza\", \"trastero\", \"garaje\"])"
   ]
  },
  {
   "cell_type": "code",
   "execution_count": 57,
   "metadata": {},
   "outputs": [],
   "source": [
    "df_10_latina.to_excel(\"df_10_latina.xlsx\",index=True)"
   ]
  },
  {
   "cell_type": "markdown",
   "metadata": {},
   "source": [
    "#### <font color= \"1F284B\" >11. Carabanchel.</font>"
   ]
  },
  {
   "cell_type": "code",
   "execution_count": 58,
   "metadata": {},
   "outputs": [],
   "source": [
    "urls_11carabanchel = []\n",
    "for i in range(1,27):\n",
    "    try:\n",
    "        urls_11carabanchel.append(\"C:/Users/nuria/Bootcamp%20Data%20Science/Proyecto%20Final/Html%20scraper/carabanchel/gilmar%20(\" + str(i) +  \").html\")\n",
    "    except:\n",
    "        print(\"No hay más htmls\")    "
   ]
  },
  {
   "cell_type": "code",
   "execution_count": 59,
   "metadata": {},
   "outputs": [],
   "source": [
    "lista_11carabanchel = []\n",
    "for i in urls_11carabanchel:\n",
    "    info_piso = sacar_info(i)\n",
    "    lista_11carabanchel.append(info_piso)"
   ]
  },
  {
   "cell_type": "code",
   "execution_count": 60,
   "metadata": {},
   "outputs": [],
   "source": [
    "df_11_carabanchel = pd.DataFrame(lista_11carabanchel, columns = [\"Barrio\", \"Precio\", \"Precio_m2\", \"m2\", \"habitaciones\", \"baños\", \"terraza\", \"trastero\", \"garaje\"])"
   ]
  },
  {
   "cell_type": "code",
   "execution_count": 61,
   "metadata": {},
   "outputs": [],
   "source": [
    "df_11_carabanchel.to_excel(\"df_11_carabanchel.xlsx\",index=True)"
   ]
  },
  {
   "cell_type": "markdown",
   "metadata": {},
   "source": [
    "#### <font color= \"1F284B\" >12. Usera.  (No hay pisos de este barrio en gilmar)</font>"
   ]
  },
  {
   "cell_type": "markdown",
   "metadata": {},
   "source": [
    "#### <font color= \"1F284B\" >13. Puente de Vallecas.</font>"
   ]
  },
  {
   "cell_type": "code",
   "execution_count": 62,
   "metadata": {},
   "outputs": [],
   "source": [
    "urls_13ptevallecas = []\n",
    "for i in range(1,7):\n",
    "    try:\n",
    "        urls_13ptevallecas.append(\"C:/Users/nuria/Bootcamp%20Data%20Science/Proyecto%20Final/Html%20scraper/puente%20de%20vallecas/gilmar%20(\" + str(i) +  \").html\")\n",
    "    except:\n",
    "        print(\"No hay más htmls\")    "
   ]
  },
  {
   "cell_type": "code",
   "execution_count": 63,
   "metadata": {},
   "outputs": [],
   "source": [
    "lista_13ptevallecas = []\n",
    "for i in urls_13ptevallecas:\n",
    "    info_piso = sacar_info(i)\n",
    "    lista_13ptevallecas.append(info_piso)"
   ]
  },
  {
   "cell_type": "code",
   "execution_count": 64,
   "metadata": {},
   "outputs": [],
   "source": [
    "df_13_ptevallecas = pd.DataFrame(lista_13ptevallecas, columns = [\"Barrio\", \"Precio\", \"Precio_m2\", \"m2\", \"habitaciones\", \"baños\", \"terraza\", \"trastero\", \"garaje\"])"
   ]
  },
  {
   "cell_type": "code",
   "execution_count": 65,
   "metadata": {},
   "outputs": [],
   "source": [
    "df_13_ptevallecas.to_excel(\"df_13_ptevallecas.xlsx\",index=True)"
   ]
  },
  {
   "cell_type": "markdown",
   "metadata": {},
   "source": [
    "#### <font color= \"1F284B\" >14. Moratalaz.</font>"
   ]
  },
  {
   "cell_type": "code",
   "execution_count": 66,
   "metadata": {},
   "outputs": [],
   "source": [
    "urls_14moratalaz = []\n",
    "for i in range(1,4):\n",
    "    try:\n",
    "        urls_14moratalaz.append(\"C:/Users/nuria/Bootcamp%20Data%20Science/Proyecto%20Final/Html%20scraper/moratalaz/gilmar%20(\" + str(i) +  \").html\")\n",
    "    except:\n",
    "        print(\"No hay más htmls\")    "
   ]
  },
  {
   "cell_type": "code",
   "execution_count": 67,
   "metadata": {},
   "outputs": [],
   "source": [
    "lista_14moratalaz = []\n",
    "for i in urls_14moratalaz:\n",
    "    info_piso = sacar_info(i)\n",
    "    lista_14moratalaz.append(info_piso)"
   ]
  },
  {
   "cell_type": "code",
   "execution_count": 68,
   "metadata": {},
   "outputs": [],
   "source": [
    "df_14_moratalaz = pd.DataFrame(lista_14moratalaz, columns = [\"Barrio\", \"Precio\", \"Precio_m2\", \"m2\", \"habitaciones\", \"baños\", \"terraza\", \"trastero\", \"garaje\"])"
   ]
  },
  {
   "cell_type": "code",
   "execution_count": 69,
   "metadata": {},
   "outputs": [],
   "source": [
    "df_14_moratalaz.to_excel(\"df_14_moratalaz.xlsx\",index=True)"
   ]
  },
  {
   "cell_type": "markdown",
   "metadata": {},
   "source": [
    "#### <font color= \"1F284B\" >15. Ciudad Lineal.</font>"
   ]
  },
  {
   "cell_type": "code",
   "execution_count": 70,
   "metadata": {},
   "outputs": [],
   "source": [
    "urls_15clineal = []\n",
    "for i in range(1,37):\n",
    "    try:\n",
    "        urls_15clineal.append(\"C:/Users/nuria/Bootcamp%20Data%20Science/Proyecto%20Final/Html%20scraper/ciudad%20lineal/gilmar%20(\" + str(i) +  \").html\")\n",
    "    except:\n",
    "        print(\"No hay más htmls\") "
   ]
  },
  {
   "cell_type": "code",
   "execution_count": 71,
   "metadata": {},
   "outputs": [],
   "source": [
    "lista_15clineal = []\n",
    "for i in urls_15clineal:\n",
    "    info_piso = sacar_info(i)\n",
    "    lista_15clineal.append(info_piso)"
   ]
  },
  {
   "cell_type": "code",
   "execution_count": 72,
   "metadata": {},
   "outputs": [],
   "source": [
    "df_15_clineal = pd.DataFrame(lista_15clineal, columns = [\"Barrio\", \"Precio\", \"Precio_m2\", \"m2\", \"habitaciones\", \"baños\", \"terraza\", \"trastero\", \"garaje\"])"
   ]
  },
  {
   "cell_type": "code",
   "execution_count": 73,
   "metadata": {},
   "outputs": [],
   "source": [
    "df_15_clineal.to_excel(\"df_15_clineal.xlsx\",index=True)"
   ]
  },
  {
   "cell_type": "markdown",
   "metadata": {},
   "source": [
    "#### <font color= \"1F284B\" >16. Hortaleza.  (No hay pisos de este barrio en gilmar)</font>"
   ]
  },
  {
   "cell_type": "markdown",
   "metadata": {},
   "source": [
    "#### <font color= \"1F284B\" >17. Villaverde.</font>"
   ]
  },
  {
   "cell_type": "code",
   "execution_count": 74,
   "metadata": {},
   "outputs": [],
   "source": [
    "urls_17villaverde = []\n",
    "for i in range(1,7):\n",
    "    try:\n",
    "        urls_17villaverde.append(\"C:/Users/nuria/Bootcamp%20Data%20Science/Proyecto%20Final/Html%20scraper/villaverde/gilmar%20(\" + str(i) +  \").html\")\n",
    "    except:\n",
    "        print(\"No hay más htmls\")    "
   ]
  },
  {
   "cell_type": "code",
   "execution_count": 76,
   "metadata": {},
   "outputs": [],
   "source": [
    "lista_17villaverde = []\n",
    "for i in urls_17villaverde:\n",
    "    info_piso = sacar_info(i)\n",
    "    lista_17villaverde.append(info_piso)"
   ]
  },
  {
   "cell_type": "code",
   "execution_count": 77,
   "metadata": {},
   "outputs": [],
   "source": [
    "df_17_villaverde = pd.DataFrame(lista_17villaverde, columns = [\"Barrio\", \"Precio\", \"Precio_m2\", \"m2\", \"habitaciones\", \"baños\", \"terraza\", \"trastero\", \"garaje\"])"
   ]
  },
  {
   "cell_type": "code",
   "execution_count": 78,
   "metadata": {},
   "outputs": [],
   "source": [
    "df_17_villaverde.to_excel(\"df_17_villaverde.xlsx\",index=True)"
   ]
  },
  {
   "cell_type": "markdown",
   "metadata": {},
   "source": [
    "#### <font color= \"1F284B\" >18. Villa de vallecas.</font>"
   ]
  },
  {
   "cell_type": "code",
   "execution_count": 79,
   "metadata": {},
   "outputs": [],
   "source": [
    "urls_18villavallecas = []\n",
    "for i in range(1,3):\n",
    "    try:\n",
    "        urls_18villavallecas.append(\"C:/Users/nuria/Bootcamp%20Data%20Science/Proyecto%20Final/Html%20scraper/villa%20de%20vallecas/gilmar%20(\" + str(i) +  \").html\")\n",
    "    except:\n",
    "        print(\"No hay más htmls\")  "
   ]
  },
  {
   "cell_type": "code",
   "execution_count": 80,
   "metadata": {},
   "outputs": [],
   "source": [
    "lista_18villavallecas = []\n",
    "for i in urls_18villavallecas:\n",
    "    info_piso = sacar_info(i)\n",
    "    lista_18villavallecas.append(info_piso)"
   ]
  },
  {
   "cell_type": "code",
   "execution_count": 81,
   "metadata": {},
   "outputs": [],
   "source": [
    "df_18_villavallecas = pd.DataFrame(lista_18villavallecas, columns = [\"Barrio\", \"Precio\", \"Precio_m2\", \"m2\", \"habitaciones\", \"baños\", \"terraza\", \"trastero\", \"garaje\"])"
   ]
  },
  {
   "cell_type": "code",
   "execution_count": 82,
   "metadata": {},
   "outputs": [],
   "source": [
    "df_18_villavallecas.to_excel(\"df_18_villavallecas.xlsx\",index=True)"
   ]
  },
  {
   "cell_type": "markdown",
   "metadata": {},
   "source": [
    "#### <font color= \"1F284B\" >19. Vicálvaro.</font>"
   ]
  },
  {
   "cell_type": "code",
   "execution_count": 85,
   "metadata": {},
   "outputs": [],
   "source": [
    "urls_19vicalvaro = []\n",
    "for i in range(1,2):\n",
    "    try:\n",
    "        urls_19vicalvaro.append(\"C:/Users/nuria/Bootcamp%20Data%20Science/Proyecto%20Final/Html%20scraper/vicalvaro/gilmar(\" + str(i) +  \").html\")\n",
    "    except:\n",
    "        print(\"No hay más htmls\") "
   ]
  },
  {
   "cell_type": "code",
   "execution_count": 86,
   "metadata": {},
   "outputs": [],
   "source": [
    "lista_19vicalvaro = []\n",
    "for i in urls_19vicalvaro:\n",
    "    info_piso = sacar_info(i)\n",
    "    lista_19vicalvaro.append(info_piso)"
   ]
  },
  {
   "cell_type": "code",
   "execution_count": 87,
   "metadata": {},
   "outputs": [],
   "source": [
    "df_19_vicalvaro = pd.DataFrame(lista_19vicalvaro, columns = [\"Barrio\", \"Precio\", \"Precio_m2\", \"m2\", \"habitaciones\", \"baños\", \"terraza\", \"trastero\", \"garaje\"])"
   ]
  },
  {
   "cell_type": "code",
   "execution_count": 88,
   "metadata": {},
   "outputs": [],
   "source": [
    "df_19_vicalvaro.to_excel(\"df_19_vicalvaro.xlsx\",index=True)"
   ]
  },
  {
   "cell_type": "markdown",
   "metadata": {},
   "source": [
    "#### <font color= \"1F284B\" >20. San Blás.</font>"
   ]
  },
  {
   "cell_type": "code",
   "execution_count": 89,
   "metadata": {},
   "outputs": [],
   "source": [
    "urls_20sanblas = []\n",
    "for i in range(1,11):\n",
    "    try:\n",
    "        urls_20sanblas.append(\"C:/Users/nuria/Bootcamp%20Data%20Science/Proyecto%20Final/Html%20scraper/San%20blas/gilmar%20(\" + str(i) +  \").html\")\n",
    "    except:\n",
    "        print(\"No hay más htmls\")"
   ]
  },
  {
   "cell_type": "code",
   "execution_count": 90,
   "metadata": {},
   "outputs": [],
   "source": [
    "lista_20sanblas = []\n",
    "for i in urls_20sanblas:\n",
    "    info_piso = sacar_info(i)\n",
    "    lista_20sanblas.append(info_piso)"
   ]
  },
  {
   "cell_type": "code",
   "execution_count": 91,
   "metadata": {},
   "outputs": [],
   "source": [
    "df_20_sanblas = pd.DataFrame(lista_20sanblas, columns = [\"Barrio\", \"Precio\", \"Precio_m2\", \"m2\", \"habitaciones\", \"baños\", \"terraza\", \"trastero\", \"garaje\"])"
   ]
  },
  {
   "cell_type": "code",
   "execution_count": 92,
   "metadata": {},
   "outputs": [],
   "source": [
    "df_20_sanblas.to_excel(\"df_20_sanblas.xlsx\",index=True)"
   ]
  },
  {
   "cell_type": "markdown",
   "metadata": {},
   "source": [
    "#### <font color= \"1F284B\" >21. Barajas.</font>"
   ]
  },
  {
   "cell_type": "code",
   "execution_count": 93,
   "metadata": {},
   "outputs": [],
   "source": [
    "urls_21barajas = []\n",
    "for i in range(1,3):\n",
    "    try:\n",
    "        urls_21barajas.append(\"C:/Users/nuria/Bootcamp%20Data%20Science/Proyecto%20Final/Html%20scraper/barajas/gilmar%20(\" + str(i) +  \").html\")\n",
    "    except:\n",
    "        print(\"No hay más htmls\")    "
   ]
  },
  {
   "cell_type": "code",
   "execution_count": 94,
   "metadata": {},
   "outputs": [],
   "source": [
    "lista_21barajas = []\n",
    "for i in urls_21barajas:\n",
    "    info_piso = sacar_info(i)\n",
    "    lista_21barajas.append(info_piso)"
   ]
  },
  {
   "cell_type": "code",
   "execution_count": 95,
   "metadata": {},
   "outputs": [],
   "source": [
    "df_21_barajas = pd.DataFrame(lista_21barajas, columns = [\"Barrio\", \"Precio\", \"Precio_m2\", \"m2\", \"habitaciones\", \"baños\", \"terraza\", \"trastero\", \"garaje\"])"
   ]
  },
  {
   "cell_type": "code",
   "execution_count": 96,
   "metadata": {},
   "outputs": [],
   "source": [
    "df_21_barajas.to_excel(\"df_21_barajas.xlsx\",index=True)"
   ]
  }
 ],
 "metadata": {
  "kernelspec": {
   "display_name": "Python 3",
   "language": "python",
   "name": "python3"
  },
  "language_info": {
   "codemirror_mode": {
    "name": "ipython",
    "version": 3
   },
   "file_extension": ".py",
   "mimetype": "text/x-python",
   "name": "python",
   "nbconvert_exporter": "python",
   "pygments_lexer": "ipython3",
   "version": "3.8.5"
  }
 },
 "nbformat": 4,
 "nbformat_minor": 4
}
